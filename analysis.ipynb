{
 "cells": [
  {
   "cell_type": "code",
   "execution_count": 6,
   "metadata": {},
   "outputs": [],
   "source": [
    "import pandas as pd\n",
    "import numpy as np\n",
    "\n",
    "import seaborn as sns"
   ]
  },
  {
   "cell_type": "code",
   "execution_count": 2,
   "metadata": {},
   "outputs": [],
   "source": [
    "def missing_values_analysis(df):\n",
    "    na_columns_ = [col for col in df.columns if df[col].isnull().sum() > 0]\n",
    "    n_miss = df[na_columns_].isnull().sum().sort_values(ascending=False)\n",
    "    ratio_ = (df[na_columns_].isnull().sum() / df.shape[0] * 100).sort_values(ascending=False)\n",
    "    missing_df = pd.concat([n_miss, np.round(ratio_, 2)], axis=1, keys=['Total Missing Values', 'Ratio'])\n",
    "    missing_df = pd.DataFrame(missing_df).sort_values(by=\"Ratio\", ascending=False)\n",
    "    return missing_df\n",
    "\n",
    "\n",
    "def check_df(dataframe, head=5, tail=5):\n",
    "    print(\"*\" * 70)\n",
    "    print(\" Shape \".center(70, \"*\"))\n",
    "    print(\"*\" * 70)\n",
    "    print(dataframe.shape)\n",
    "\n",
    "    print(\"*\" * 70)\n",
    "    print(\" Types \".center(70, \"*\"))\n",
    "    print(\"*\" * 70)\n",
    "    print(dataframe.dtypes)\n",
    "\n",
    "    print(\"*\" * 70)\n",
    "    print(\" Head \".center(70, \"*\"))\n",
    "    print(\"*\" * 70)\n",
    "    print(dataframe.head(head))\n",
    "\n",
    "    print(\"*\" * 70)\n",
    "    print(\" Tail \".center(70, \"*\"))\n",
    "    print(\"*\" * 70)\n",
    "    print(dataframe.tail(tail))\n",
    "\n",
    "    print(\"*\" * 70)\n",
    "    print(\" NA \".center(70, \"*\"))\n",
    "    print(\"*\" * 70)\n",
    "    print(missing_values_analysis(dataframe))\n",
    "\n",
    "    print(\"*\" * 70)\n",
    "    print(\" Quantiles \".center(70, \"*\"))\n",
    "    print(\"*\" * 70)\n",
    "    print(dataframe.describe([.01, .05, .1, .5, .9, .95, .99]).T)\n",
    "\n",
    "    print(\"*\" * 70)\n",
    "    print(\" Duplicate Rows \".center(70, \"*\"))\n",
    "    print(\"*\" * 70)\n",
    "    print(dataframe.duplicated().sum())\n",
    "\n",
    "    print(\"*\" * 70)\n",
    "    print(\" Uniques \".center(70, \"*\"))\n",
    "    print(\"*\" * 70)\n",
    "    print(dataframe.nunique())"
   ]
  },
  {
   "cell_type": "code",
   "execution_count": 16,
   "metadata": {},
   "outputs": [],
   "source": [
    "train = pd.read_csv(\"./data/train.csv\").iloc[:,1:]\n",
    "test = pd.read_csv(\"./data/test_x.csv\").iloc[:,1:]"
   ]
  },
  {
   "cell_type": "code",
   "execution_count": 17,
   "metadata": {},
   "outputs": [
    {
     "data": {
      "text/html": [
       "<div>\n",
       "<style scoped>\n",
       "    .dataframe tbody tr th:only-of-type {\n",
       "        vertical-align: middle;\n",
       "    }\n",
       "\n",
       "    .dataframe tbody tr th {\n",
       "        vertical-align: top;\n",
       "    }\n",
       "\n",
       "    .dataframe thead th {\n",
       "        text-align: right;\n",
       "    }\n",
       "</style>\n",
       "<table border=\"1\" class=\"dataframe\">\n",
       "  <thead>\n",
       "    <tr style=\"text-align: right;\">\n",
       "      <th></th>\n",
       "      <th>Cinsiyet</th>\n",
       "      <th>Yaş Grubu</th>\n",
       "      <th>Medeni Durum</th>\n",
       "      <th>Eğitim Düzeyi</th>\n",
       "      <th>İstihdam Durumu</th>\n",
       "      <th>Yıllık Ortalama Gelir</th>\n",
       "      <th>Yaşadığı Şehir</th>\n",
       "      <th>En Çok İlgilendiği Ürün Grubu</th>\n",
       "      <th>Yıllık Ortalama Satın Alım Miktarı</th>\n",
       "      <th>Yıllık Ortalama Sipariş Verilen Ürün Adedi</th>\n",
       "      <th>Eğitime Devam Etme Durumu</th>\n",
       "      <th>Yıllık Ortalama Sepete Atılan Ürün Adedi</th>\n",
       "    </tr>\n",
       "  </thead>\n",
       "  <tbody>\n",
       "    <tr>\n",
       "      <th>0</th>\n",
       "      <td>Erkek</td>\n",
       "      <td>51-60</td>\n",
       "      <td>Evli</td>\n",
       "      <td>Yüksek Lisans Mezunu</td>\n",
       "      <td>Düzenli ve Ücretli Bir İşi Var</td>\n",
       "      <td>365331.930346</td>\n",
       "      <td>Köy veya Kasaba</td>\n",
       "      <td>Giyim</td>\n",
       "      <td>5566.587664</td>\n",
       "      <td>15.442635</td>\n",
       "      <td>Etmiyor</td>\n",
       "      <td>19.646460</td>\n",
       "    </tr>\n",
       "    <tr>\n",
       "      <th>1</th>\n",
       "      <td>Erkek</td>\n",
       "      <td>41-50</td>\n",
       "      <td>Bekar</td>\n",
       "      <td>Lise Mezunu</td>\n",
       "      <td>İşsiz veya Düzenli Bir İşi Yok</td>\n",
       "      <td>414899.236174</td>\n",
       "      <td>Büyük Şehir</td>\n",
       "      <td>Spor Malzemeleri</td>\n",
       "      <td>6756.766203</td>\n",
       "      <td>14.957246</td>\n",
       "      <td>Etmiyor</td>\n",
       "      <td>19.675863</td>\n",
       "    </tr>\n",
       "    <tr>\n",
       "      <th>2</th>\n",
       "      <td>Kadın</td>\n",
       "      <td>&gt;60</td>\n",
       "      <td>Evli</td>\n",
       "      <td>Eğitimsiz</td>\n",
       "      <td>İşsiz veya Düzenli Bir İşi Yok</td>\n",
       "      <td>152825.872271</td>\n",
       "      <td>Küçük Şehir</td>\n",
       "      <td>Giyim</td>\n",
       "      <td>4493.915682</td>\n",
       "      <td>10.907930</td>\n",
       "      <td>Etmiyor</td>\n",
       "      <td>46.904518</td>\n",
       "    </tr>\n",
       "    <tr>\n",
       "      <th>3</th>\n",
       "      <td>Kadın</td>\n",
       "      <td>51-60</td>\n",
       "      <td>Evli</td>\n",
       "      <td>Doktora Ötesi</td>\n",
       "      <td>Düzenli ve Ücretli Bir İşi Var</td>\n",
       "      <td>489052.908472</td>\n",
       "      <td>Köy veya Kasaba</td>\n",
       "      <td>Kozmetik</td>\n",
       "      <td>42670.646595</td>\n",
       "      <td>32.333021</td>\n",
       "      <td>Etmiyor</td>\n",
       "      <td>48.083609</td>\n",
       "    </tr>\n",
       "    <tr>\n",
       "      <th>4</th>\n",
       "      <td>Erkek</td>\n",
       "      <td>18-30</td>\n",
       "      <td>Evli</td>\n",
       "      <td>Yüksek Lisans Mezunu</td>\n",
       "      <td>Kendi İşinin Sahibi</td>\n",
       "      <td>323635.711534</td>\n",
       "      <td>Küçük Şehir</td>\n",
       "      <td>Giyim</td>\n",
       "      <td>5959.266948</td>\n",
       "      <td>4.519968</td>\n",
       "      <td>Etmiyor</td>\n",
       "      <td>12.752491</td>\n",
       "    </tr>\n",
       "  </tbody>\n",
       "</table>\n",
       "</div>"
      ],
      "text/plain": [
       "  Cinsiyet Yaş Grubu Medeni Durum         Eğitim Düzeyi  \\\n",
       "0    Erkek     51-60         Evli  Yüksek Lisans Mezunu   \n",
       "1    Erkek     41-50        Bekar           Lise Mezunu   \n",
       "2    Kadın       >60         Evli             Eğitimsiz   \n",
       "3    Kadın     51-60         Evli         Doktora Ötesi   \n",
       "4    Erkek     18-30         Evli  Yüksek Lisans Mezunu   \n",
       "\n",
       "                  İstihdam Durumu  Yıllık Ortalama Gelir   Yaşadığı Şehir  \\\n",
       "0  Düzenli ve Ücretli Bir İşi Var          365331.930346  Köy veya Kasaba   \n",
       "1  İşsiz veya Düzenli Bir İşi Yok          414899.236174      Büyük Şehir   \n",
       "2  İşsiz veya Düzenli Bir İşi Yok          152825.872271      Küçük Şehir   \n",
       "3  Düzenli ve Ücretli Bir İşi Var          489052.908472  Köy veya Kasaba   \n",
       "4             Kendi İşinin Sahibi          323635.711534      Küçük Şehir   \n",
       "\n",
       "  En Çok İlgilendiği Ürün Grubu  Yıllık Ortalama Satın Alım Miktarı  \\\n",
       "0                         Giyim                         5566.587664   \n",
       "1              Spor Malzemeleri                         6756.766203   \n",
       "2                         Giyim                         4493.915682   \n",
       "3                      Kozmetik                        42670.646595   \n",
       "4                         Giyim                         5959.266948   \n",
       "\n",
       "   Yıllık Ortalama Sipariş Verilen Ürün Adedi Eğitime Devam Etme Durumu  \\\n",
       "0                                   15.442635                   Etmiyor   \n",
       "1                                   14.957246                   Etmiyor   \n",
       "2                                   10.907930                   Etmiyor   \n",
       "3                                   32.333021                   Etmiyor   \n",
       "4                                    4.519968                   Etmiyor   \n",
       "\n",
       "   Yıllık Ortalama Sepete Atılan Ürün Adedi  \n",
       "0                                 19.646460  \n",
       "1                                 19.675863  \n",
       "2                                 46.904518  \n",
       "3                                 48.083609  \n",
       "4                                 12.752491  "
      ]
     },
     "execution_count": 17,
     "metadata": {},
     "output_type": "execute_result"
    }
   ],
   "source": [
    "test.head()"
   ]
  },
  {
   "cell_type": "markdown",
   "metadata": {},
   "source": [
    "## Feature Engineering Ideas:\n",
    "- Medeni durum-Eğitim düzeyi ikilisi\n",
    "- Medeni durum-İstihdam Durumu ikilisi\n",
    "- İstihdam Durumu-Eğitim düzeyi ikilisi\n",
    "- Eğitim düzeyi-Eğitime devam etme durumu"
   ]
  },
  {
   "cell_type": "code",
   "execution_count": 4,
   "metadata": {},
   "outputs": [
    {
     "name": "stdout",
     "output_type": "stream",
     "text": [
      "**********************************************************************\n",
      "******************************* Shape ********************************\n",
      "**********************************************************************\n",
      "(5460, 14)\n",
      "**********************************************************************\n",
      "******************************* Types ********************************\n",
      "**********************************************************************\n",
      "index                                           int64\n",
      "Cinsiyet                                       object\n",
      "Yaş Grubu                                      object\n",
      "Medeni Durum                                   object\n",
      "Eğitim Düzeyi                                  object\n",
      "İstihdam Durumu                                object\n",
      "Yıllık Ortalama Gelir                         float64\n",
      "Yaşadığı Şehir                                 object\n",
      "En Çok İlgilendiği Ürün Grubu                  object\n",
      "Yıllık Ortalama Satın Alım Miktarı            float64\n",
      "Yıllık Ortalama Sipariş Verilen Ürün Adedi    float64\n",
      "Eğitime Devam Etme Durumu                      object\n",
      "Öbek İsmi                                      object\n",
      "Yıllık Ortalama Sepete Atılan Ürün Adedi      float64\n",
      "dtype: object\n",
      "**********************************************************************\n",
      "******************************** Head ********************************\n",
      "**********************************************************************\n",
      "   index Cinsiyet Yaş Grubu Medeni Durum         Eğitim Düzeyi  \\\n",
      "0      0    Kadın     31-40        Bekar  Yüksek Lisans Mezunu   \n",
      "1      1    Erkek       >60         Evli           Lise Mezunu   \n",
      "2      2    Erkek     18-30        Bekar           Lise Mezunu   \n",
      "3      3    Erkek     51-60         Evli           Lise Mezunu   \n",
      "4      4    Erkek     31-40         Evli       Ortaokul Mezunu   \n",
      "\n",
      "                  İstihdam Durumu  Yıllık Ortalama Gelir Yaşadığı Şehir  \\\n",
      "0  Düzenli ve Ücretli Bir İşi Var          748266.440879    Büyük Şehir   \n",
      "1             Kendi İşinin Sahibi          246298.609605    Küçük Şehir   \n",
      "2  Düzenli ve Ücretli Bir İşi Var          268582.732360    Küçük Şehir   \n",
      "3             Kendi İşinin Sahibi          327721.837865         Kırsal   \n",
      "4  İşsiz veya Düzenli Bir İşi Yok          397431.626948    Büyük Şehir   \n",
      "\n",
      "      En Çok İlgilendiği Ürün Grubu  Yıllık Ortalama Satın Alım Miktarı  \\\n",
      "0  Elektronik ve Teknolojik Ürünler                        32010.900881   \n",
      "1                  Spor Malzemeleri                         4145.729891   \n",
      "2                             Giyim                         9924.379414   \n",
      "3                             Giyim                         6417.780714   \n",
      "4                             Giyim                         7886.663061   \n",
      "\n",
      "   Yıllık Ortalama Sipariş Verilen Ürün Adedi Eğitime Devam Etme Durumu  \\\n",
      "0                                   37.310644                   Etmiyor   \n",
      "1                                   11.554851                   Etmiyor   \n",
      "2                                   55.353236                    Ediyor   \n",
      "3                                   15.417239                   Etmiyor   \n",
      "4                                   14.689837                   Etmiyor   \n",
      "\n",
      "  Öbek İsmi  Yıllık Ortalama Sepete Atılan Ürün Adedi  \n",
      "0    obek_4                                102.936904  \n",
      "1    obek_5                                 82.176053  \n",
      "2    obek_8                                141.661426  \n",
      "3    obek_3                                 17.097397  \n",
      "4    obek_3                                 20.470459  \n",
      "**********************************************************************\n",
      "******************************** Tail ********************************\n",
      "**********************************************************************\n",
      "      index Cinsiyet Yaş Grubu Medeni Durum      Eğitim Düzeyi  \\\n",
      "5455   5455    Kadın       >60        Bekar  Üniversite Mezunu   \n",
      "5456   5456    Erkek     51-60         Evli      Doktora Ötesi   \n",
      "5457   5457    Kadın     51-60         Evli     İlkokul Mezunu   \n",
      "5458   5458    Kadın     18-30        Bekar  Yüksekokul Mezunu   \n",
      "5459   5459    Erkek     18-30        Bekar  Yüksekokul Mezunu   \n",
      "\n",
      "                     İstihdam Durumu  Yıllık Ortalama Gelir   Yaşadığı Şehir  \\\n",
      "5455                          Emekli          478054.247819  Köy veya Kasaba   \n",
      "5456             Kendi İşinin Sahibi          481852.853651  Köy veya Kasaba   \n",
      "5457  Düzenli ve Ücretli Bir İşi Var          309443.687351      Küçük Şehir   \n",
      "5458  Düzenli ve Ücretli Bir İşi Var          266604.268016      Büyük Şehir   \n",
      "5459  Düzenli ve Ücretli Bir İşi Var          276155.078333      Büyük Şehir   \n",
      "\n",
      "     En Çok İlgilendiği Ürün Grubu  Yıllık Ortalama Satın Alım Miktarı  \\\n",
      "5455                      Kozmetik                        43182.299801   \n",
      "5456                 Ev ve Mobilya                        42107.996193   \n",
      "5457                 Ev ve Mobilya                         4655.392445   \n",
      "5458                 Ev ve Mobilya                         9016.165906   \n",
      "5459              Spor Malzemeleri                         9455.657480   \n",
      "\n",
      "      Yıllık Ortalama Sipariş Verilen Ürün Adedi Eğitime Devam Etme Durumu  \\\n",
      "5455                                   31.356284                   Etmiyor   \n",
      "5456                                   26.288620                   Etmiyor   \n",
      "5457                                    5.156906                   Etmiyor   \n",
      "5458                                   39.205399                    Ediyor   \n",
      "5459                                   50.554188                    Ediyor   \n",
      "\n",
      "     Öbek İsmi  Yıllık Ortalama Sepete Atılan Ürün Adedi  \n",
      "5455    obek_6                                 51.600436  \n",
      "5456    obek_6                                 49.190536  \n",
      "5457    obek_1                                  9.537384  \n",
      "5458    obek_8                                143.281718  \n",
      "5459    obek_8                                127.329348  \n",
      "**********************************************************************\n",
      "********************************* NA *********************************\n",
      "**********************************************************************\n",
      "Empty DataFrame\n",
      "Columns: [Total Missing Values, Ratio]\n",
      "Index: []\n",
      "**********************************************************************\n",
      "***************************** Quantiles ******************************\n",
      "**********************************************************************\n",
      "                                             count           mean  \\\n",
      "index                                       5460.0    2729.500000   \n",
      "Yıllık Ortalama Gelir                       5460.0  363571.133428   \n",
      "Yıllık Ortalama Satın Alım Miktarı          5460.0   16616.612217   \n",
      "Yıllık Ortalama Sipariş Verilen Ürün Adedi  5460.0      24.040884   \n",
      "Yıllık Ortalama Sepete Atılan Ürün Adedi    5460.0      73.445693   \n",
      "\n",
      "                                                      std           min  \\\n",
      "index                                         1576.310566      0.000000   \n",
      "Yıllık Ortalama Gelir                       219714.442407  43922.988693   \n",
      "Yıllık Ortalama Satın Alım Miktarı           14099.171704   2859.254000   \n",
      "Yıllık Ortalama Sipariş Verilen Ürün Adedi      14.945655      0.000000   \n",
      "Yıllık Ortalama Sepete Atılan Ürün Adedi        47.214184      3.977559   \n",
      "\n",
      "                                                       1%             5%  \\\n",
      "index                                           54.590000     272.950000   \n",
      "Yıllık Ortalama Gelir                       116981.287718  150628.727704   \n",
      "Yıllık Ortalama Satın Alım Miktarı            3417.030910    3750.944992   \n",
      "Yıllık Ortalama Sipariş Verilen Ürün Adedi       0.708919       4.012480   \n",
      "Yıllık Ortalama Sepete Atılan Ürün Adedi         7.204618       9.478686   \n",
      "\n",
      "                                                      10%            50%  \\\n",
      "index                                          545.900000    2729.500000   \n",
      "Yıllık Ortalama Gelir                       170575.367076  286925.436073   \n",
      "Yıllık Ortalama Satın Alım Miktarı            3982.074933    8426.818967   \n",
      "Yıllık Ortalama Sipariş Verilen Ürün Adedi       7.169551      20.095924   \n",
      "Yıllık Ortalama Sepete Atılan Ürün Adedi        11.471611      82.485579   \n",
      "\n",
      "                                                      90%            95%  \\\n",
      "index                                         4913.100000    5186.050000   \n",
      "Yıllık Ortalama Gelir                       759080.731932  890884.524597   \n",
      "Yıllık Ortalama Satın Alım Miktarı           38756.728396   41256.719718   \n",
      "Yıllık Ortalama Sipariş Verilen Ürün Adedi      46.698859      51.775273   \n",
      "Yıllık Ortalama Sepete Atılan Ürün Adedi       129.625888     159.470950   \n",
      "\n",
      "                                                     99%           max  \n",
      "index                                       5.404410e+03  5.459000e+03  \n",
      "Yıllık Ortalama Gelir                       1.035737e+06  1.192437e+06  \n",
      "Yıllık Ortalama Satın Alım Miktarı          4.402241e+04  4.860559e+04  \n",
      "Yıllık Ortalama Sipariş Verilen Ürün Adedi  5.766360e+01  6.461620e+01  \n",
      "Yıllık Ortalama Sepete Atılan Ürün Adedi    1.924694e+02  2.423084e+02  \n",
      "**********************************************************************\n",
      "*************************** Duplicate Rows ***************************\n",
      "**********************************************************************\n",
      "0\n",
      "**********************************************************************\n",
      "****************************** Uniques *******************************\n",
      "**********************************************************************\n",
      "index                                         5460\n",
      "Cinsiyet                                         2\n",
      "Yaş Grubu                                        5\n",
      "Medeni Durum                                     2\n",
      "Eğitim Düzeyi                                    9\n",
      "İstihdam Durumu                                  4\n",
      "Yıllık Ortalama Gelir                         5460\n",
      "Yaşadığı Şehir                                   4\n",
      "En Çok İlgilendiği Ürün Grubu                    5\n",
      "Yıllık Ortalama Satın Alım Miktarı            5460\n",
      "Yıllık Ortalama Sipariş Verilen Ürün Adedi    5422\n",
      "Eğitime Devam Etme Durumu                        2\n",
      "Öbek İsmi                                        8\n",
      "Yıllık Ortalama Sepete Atılan Ürün Adedi      5460\n",
      "dtype: int64\n"
     ]
    }
   ],
   "source": [
    "check_df(train)"
   ]
  },
  {
   "cell_type": "code",
   "execution_count": 18,
   "metadata": {},
   "outputs": [
    {
     "data": {
      "text/plain": [
       "(5460, 13)"
      ]
     },
     "execution_count": 18,
     "metadata": {},
     "output_type": "execute_result"
    }
   ],
   "source": [
    "train.shape"
   ]
  },
  {
   "cell_type": "code",
   "execution_count": 19,
   "metadata": {},
   "outputs": [
    {
     "data": {
      "text/plain": [
       "(2340, 12)"
      ]
     },
     "execution_count": 19,
     "metadata": {},
     "output_type": "execute_result"
    }
   ],
   "source": [
    "test.shape"
   ]
  },
  {
   "cell_type": "code",
   "execution_count": 10,
   "metadata": {},
   "outputs": [
    {
     "data": {
      "image/png": "[encoded data removed]",
      "text/plain": [
       "<Figure size 432x288 with 1 Axes>"
      ]
     },
     "metadata": {
      "needs_background": "light"
     },
     "output_type": "display_data"
    }
   ],
   "source": [
    "sns.countplot(x=train[\"Öbek İsmi\"]);"
   ]
  },
  {
   "cell_type": "code",
   "execution_count": 20,
   "metadata": {},
   "outputs": [],
   "source": [
    "app_train = train.copy()\n",
    "app_test = test.copy()"
   ]
  },
  {
   "cell_type": "code",
   "execution_count": 23,
   "metadata": {},
   "outputs": [
    {
     "data": {
      "text/html": [
       "<div>\n",
       "<style scoped>\n",
       "    .dataframe tbody tr th:only-of-type {\n",
       "        vertical-align: middle;\n",
       "    }\n",
       "\n",
       "    .dataframe tbody tr th {\n",
       "        vertical-align: top;\n",
       "    }\n",
       "\n",
       "    .dataframe thead th {\n",
       "        text-align: right;\n",
       "    }\n",
       "</style>\n",
       "<table border=\"1\" class=\"dataframe\">\n",
       "  <thead>\n",
       "    <tr style=\"text-align: right;\">\n",
       "      <th></th>\n",
       "      <th>Cinsiyet</th>\n",
       "      <th>Yaş Grubu</th>\n",
       "      <th>Medeni Durum</th>\n",
       "      <th>Eğitim Düzeyi</th>\n",
       "      <th>İstihdam Durumu</th>\n",
       "      <th>Yıllık Ortalama Gelir</th>\n",
       "      <th>Yaşadığı Şehir</th>\n",
       "      <th>En Çok İlgilendiği Ürün Grubu</th>\n",
       "      <th>Yıllık Ortalama Satın Alım Miktarı</th>\n",
       "      <th>Yıllık Ortalama Sipariş Verilen Ürün Adedi</th>\n",
       "      <th>Eğitime Devam Etme Durumu</th>\n",
       "      <th>Öbek İsmi</th>\n",
       "      <th>Yıllık Ortalama Sepete Atılan Ürün Adedi</th>\n",
       "    </tr>\n",
       "  </thead>\n",
       "  <tbody>\n",
       "    <tr>\n",
       "      <th>0</th>\n",
       "      <td>Kadın</td>\n",
       "      <td>31-40</td>\n",
       "      <td>Bekar</td>\n",
       "      <td>Yüksek Lisans Mezunu</td>\n",
       "      <td>Düzenli ve Ücretli Bir İşi Var</td>\n",
       "      <td>748266.440879</td>\n",
       "      <td>Büyük Şehir</td>\n",
       "      <td>Elektronik ve Teknolojik Ürünler</td>\n",
       "      <td>32010.900881</td>\n",
       "      <td>37.310644</td>\n",
       "      <td>Etmiyor</td>\n",
       "      <td>obek_4</td>\n",
       "      <td>102.936904</td>\n",
       "    </tr>\n",
       "  </tbody>\n",
       "</table>\n",
       "</div>"
      ],
      "text/plain": [
       "  Cinsiyet Yaş Grubu Medeni Durum         Eğitim Düzeyi  \\\n",
       "0    Kadın     31-40        Bekar  Yüksek Lisans Mezunu   \n",
       "\n",
       "                  İstihdam Durumu  Yıllık Ortalama Gelir Yaşadığı Şehir  \\\n",
       "0  Düzenli ve Ücretli Bir İşi Var          748266.440879    Büyük Şehir   \n",
       "\n",
       "      En Çok İlgilendiği Ürün Grubu  Yıllık Ortalama Satın Alım Miktarı  \\\n",
       "0  Elektronik ve Teknolojik Ürünler                        32010.900881   \n",
       "\n",
       "   Yıllık Ortalama Sipariş Verilen Ürün Adedi Eğitime Devam Etme Durumu  \\\n",
       "0                                   37.310644                   Etmiyor   \n",
       "\n",
       "  Öbek İsmi  Yıllık Ortalama Sepete Atılan Ürün Adedi  \n",
       "0    obek_4                                102.936904  "
      ]
     },
     "execution_count": 23,
     "metadata": {},
     "output_type": "execute_result"
    }
   ],
   "source": [
    "train.head(1)"
   ]
  },
  {
   "cell_type": "code",
   "execution_count": 22,
   "metadata": {},
   "outputs": [
    {
     "data": {
      "text/html": [
       "<div>\n",
       "<style scoped>\n",
       "    .dataframe tbody tr th:only-of-type {\n",
       "        vertical-align: middle;\n",
       "    }\n",
       "\n",
       "    .dataframe tbody tr th {\n",
       "        vertical-align: top;\n",
       "    }\n",
       "\n",
       "    .dataframe thead th {\n",
       "        text-align: right;\n",
       "    }\n",
       "</style>\n",
       "<table border=\"1\" class=\"dataframe\">\n",
       "  <thead>\n",
       "    <tr style=\"text-align: right;\">\n",
       "      <th></th>\n",
       "      <th>Cinsiyet</th>\n",
       "      <th>Yaş Grubu</th>\n",
       "      <th>Medeni Durum</th>\n",
       "      <th>Eğitim Düzeyi</th>\n",
       "      <th>İstihdam Durumu</th>\n",
       "      <th>Yıllık Ortalama Gelir</th>\n",
       "      <th>Yaşadığı Şehir</th>\n",
       "      <th>En Çok İlgilendiği Ürün Grubu</th>\n",
       "      <th>Yıllık Ortalama Satın Alım Miktarı</th>\n",
       "      <th>Yıllık Ortalama Sipariş Verilen Ürün Adedi</th>\n",
       "      <th>Eğitime Devam Etme Durumu</th>\n",
       "      <th>Yıllık Ortalama Sepete Atılan Ürün Adedi</th>\n",
       "    </tr>\n",
       "  </thead>\n",
       "  <tbody>\n",
       "    <tr>\n",
       "      <th>0</th>\n",
       "      <td>Erkek</td>\n",
       "      <td>51-60</td>\n",
       "      <td>Evli</td>\n",
       "      <td>Yüksek Lisans Mezunu</td>\n",
       "      <td>Düzenli ve Ücretli Bir İşi Var</td>\n",
       "      <td>365331.930346</td>\n",
       "      <td>Köy veya Kasaba</td>\n",
       "      <td>Giyim</td>\n",
       "      <td>5566.587664</td>\n",
       "      <td>15.442635</td>\n",
       "      <td>Etmiyor</td>\n",
       "      <td>19.64646</td>\n",
       "    </tr>\n",
       "  </tbody>\n",
       "</table>\n",
       "</div>"
      ],
      "text/plain": [
       "  Cinsiyet Yaş Grubu Medeni Durum         Eğitim Düzeyi  \\\n",
       "0    Erkek     51-60         Evli  Yüksek Lisans Mezunu   \n",
       "\n",
       "                  İstihdam Durumu  Yıllık Ortalama Gelir   Yaşadığı Şehir  \\\n",
       "0  Düzenli ve Ücretli Bir İşi Var          365331.930346  Köy veya Kasaba   \n",
       "\n",
       "  En Çok İlgilendiği Ürün Grubu  Yıllık Ortalama Satın Alım Miktarı  \\\n",
       "0                         Giyim                         5566.587664   \n",
       "\n",
       "   Yıllık Ortalama Sipariş Verilen Ürün Adedi Eğitime Devam Etme Durumu  \\\n",
       "0                                   15.442635                   Etmiyor   \n",
       "\n",
       "   Yıllık Ortalama Sepete Atılan Ürün Adedi  \n",
       "0                                  19.64646  "
      ]
     },
     "execution_count": 22,
     "metadata": {},
     "output_type": "execute_result"
    }
   ],
   "source": [
    "test.head(1)"
   ]
  },
  {
   "cell_type": "code",
   "execution_count": 36,
   "metadata": {},
   "outputs": [],
   "source": [
    "train_ohe_cols = list(app_train.columns[:5]) + list(app_train.columns[6:8]) + list(app_train.columns[10:11])\n",
    "test_ohe_cols = list(app_test.columns[:5]) + list(app_test.columns[6:8]) + list(app_test.columns[10:11])"
   ]
  },
  {
   "cell_type": "code",
   "execution_count": 37,
   "metadata": {},
   "outputs": [
    {
     "data": {
      "text/plain": [
       "{'Cinsiyet',\n",
       " 'En Çok İlgilendiği Ürün Grubu',\n",
       " 'Eğitim Düzeyi',\n",
       " 'Eğitime Devam Etme Durumu',\n",
       " 'Medeni Durum',\n",
       " 'Yaş Grubu',\n",
       " 'Yaşadığı Şehir',\n",
       " 'İstihdam Durumu'}"
      ]
     },
     "execution_count": 37,
     "metadata": {},
     "output_type": "execute_result"
    }
   ],
   "source": [
    "set(train_ohe_cols)"
   ]
  },
  {
   "cell_type": "code",
   "execution_count": 38,
   "metadata": {},
   "outputs": [
    {
     "data": {
      "text/plain": [
       "set()"
      ]
     },
     "execution_count": 38,
     "metadata": {},
     "output_type": "execute_result"
    }
   ],
   "source": [
    "set(train_ohe_cols) - set(test_ohe_cols)"
   ]
  },
  {
   "cell_type": "code",
   "execution_count": 39,
   "metadata": {},
   "outputs": [],
   "source": [
    "app_train_encode = pd.get_dummies(app_train, columns=train_ohe_cols)\n",
    "app_test_encode = pd.get_dummies(app_test, columns=test_ohe_cols)"
   ]
  },
  {
   "cell_type": "code",
   "execution_count": 40,
   "metadata": {},
   "outputs": [
    {
     "data": {
      "text/html": [
       "<div>\n",
       "<style scoped>\n",
       "    .dataframe tbody tr th:only-of-type {\n",
       "        vertical-align: middle;\n",
       "    }\n",
       "\n",
       "    .dataframe tbody tr th {\n",
       "        vertical-align: top;\n",
       "    }\n",
       "\n",
       "    .dataframe thead th {\n",
       "        text-align: right;\n",
       "    }\n",
       "</style>\n",
       "<table border=\"1\" class=\"dataframe\">\n",
       "  <thead>\n",
       "    <tr style=\"text-align: right;\">\n",
       "      <th></th>\n",
       "      <th>Yıllık Ortalama Gelir</th>\n",
       "      <th>Yıllık Ortalama Satın Alım Miktarı</th>\n",
       "      <th>Yıllık Ortalama Sipariş Verilen Ürün Adedi</th>\n",
       "      <th>Öbek İsmi</th>\n",
       "      <th>Yıllık Ortalama Sepete Atılan Ürün Adedi</th>\n",
       "      <th>Cinsiyet_Erkek</th>\n",
       "      <th>Cinsiyet_Kadın</th>\n",
       "      <th>Yaş Grubu_18-30</th>\n",
       "      <th>Yaş Grubu_31-40</th>\n",
       "      <th>Yaş Grubu_41-50</th>\n",
       "      <th>...</th>\n",
       "      <th>Yaşadığı Şehir_Köy veya Kasaba</th>\n",
       "      <th>Yaşadığı Şehir_Küçük Şehir</th>\n",
       "      <th>Yaşadığı Şehir_Kırsal</th>\n",
       "      <th>En Çok İlgilendiği Ürün Grubu_Elektronik ve Teknolojik Ürünler</th>\n",
       "      <th>En Çok İlgilendiği Ürün Grubu_Ev ve Mobilya</th>\n",
       "      <th>En Çok İlgilendiği Ürün Grubu_Giyim</th>\n",
       "      <th>En Çok İlgilendiği Ürün Grubu_Kozmetik</th>\n",
       "      <th>En Çok İlgilendiği Ürün Grubu_Spor Malzemeleri</th>\n",
       "      <th>Eğitime Devam Etme Durumu_Ediyor</th>\n",
       "      <th>Eğitime Devam Etme Durumu_Etmiyor</th>\n",
       "    </tr>\n",
       "  </thead>\n",
       "  <tbody>\n",
       "    <tr>\n",
       "      <th>0</th>\n",
       "      <td>748266.440879</td>\n",
       "      <td>32010.900881</td>\n",
       "      <td>37.310644</td>\n",
       "      <td>obek_4</td>\n",
       "      <td>102.936904</td>\n",
       "      <td>0</td>\n",
       "      <td>1</td>\n",
       "      <td>0</td>\n",
       "      <td>1</td>\n",
       "      <td>0</td>\n",
       "      <td>...</td>\n",
       "      <td>0</td>\n",
       "      <td>0</td>\n",
       "      <td>0</td>\n",
       "      <td>1</td>\n",
       "      <td>0</td>\n",
       "      <td>0</td>\n",
       "      <td>0</td>\n",
       "      <td>0</td>\n",
       "      <td>0</td>\n",
       "      <td>1</td>\n",
       "    </tr>\n",
       "    <tr>\n",
       "      <th>1</th>\n",
       "      <td>246298.609605</td>\n",
       "      <td>4145.729891</td>\n",
       "      <td>11.554851</td>\n",
       "      <td>obek_5</td>\n",
       "      <td>82.176053</td>\n",
       "      <td>1</td>\n",
       "      <td>0</td>\n",
       "      <td>0</td>\n",
       "      <td>0</td>\n",
       "      <td>0</td>\n",
       "      <td>...</td>\n",
       "      <td>0</td>\n",
       "      <td>1</td>\n",
       "      <td>0</td>\n",
       "      <td>0</td>\n",
       "      <td>0</td>\n",
       "      <td>0</td>\n",
       "      <td>0</td>\n",
       "      <td>1</td>\n",
       "      <td>0</td>\n",
       "      <td>1</td>\n",
       "    </tr>\n",
       "    <tr>\n",
       "      <th>2</th>\n",
       "      <td>268582.732360</td>\n",
       "      <td>9924.379414</td>\n",
       "      <td>55.353236</td>\n",
       "      <td>obek_8</td>\n",
       "      <td>141.661426</td>\n",
       "      <td>1</td>\n",
       "      <td>0</td>\n",
       "      <td>1</td>\n",
       "      <td>0</td>\n",
       "      <td>0</td>\n",
       "      <td>...</td>\n",
       "      <td>0</td>\n",
       "      <td>1</td>\n",
       "      <td>0</td>\n",
       "      <td>0</td>\n",
       "      <td>0</td>\n",
       "      <td>1</td>\n",
       "      <td>0</td>\n",
       "      <td>0</td>\n",
       "      <td>1</td>\n",
       "      <td>0</td>\n",
       "    </tr>\n",
       "    <tr>\n",
       "      <th>3</th>\n",
       "      <td>327721.837865</td>\n",
       "      <td>6417.780714</td>\n",
       "      <td>15.417239</td>\n",
       "      <td>obek_3</td>\n",
       "      <td>17.097397</td>\n",
       "      <td>1</td>\n",
       "      <td>0</td>\n",
       "      <td>0</td>\n",
       "      <td>0</td>\n",
       "      <td>0</td>\n",
       "      <td>...</td>\n",
       "      <td>0</td>\n",
       "      <td>0</td>\n",
       "      <td>1</td>\n",
       "      <td>0</td>\n",
       "      <td>0</td>\n",
       "      <td>1</td>\n",
       "      <td>0</td>\n",
       "      <td>0</td>\n",
       "      <td>0</td>\n",
       "      <td>1</td>\n",
       "    </tr>\n",
       "    <tr>\n",
       "      <th>4</th>\n",
       "      <td>397431.626948</td>\n",
       "      <td>7886.663061</td>\n",
       "      <td>14.689837</td>\n",
       "      <td>obek_3</td>\n",
       "      <td>20.470459</td>\n",
       "      <td>1</td>\n",
       "      <td>0</td>\n",
       "      <td>0</td>\n",
       "      <td>1</td>\n",
       "      <td>0</td>\n",
       "      <td>...</td>\n",
       "      <td>0</td>\n",
       "      <td>0</td>\n",
       "      <td>0</td>\n",
       "      <td>0</td>\n",
       "      <td>0</td>\n",
       "      <td>1</td>\n",
       "      <td>0</td>\n",
       "      <td>0</td>\n",
       "      <td>0</td>\n",
       "      <td>1</td>\n",
       "    </tr>\n",
       "  </tbody>\n",
       "</table>\n",
       "<p>5 rows × 38 columns</p>\n",
       "</div>"
      ],
      "text/plain": [
       "   Yıllık Ortalama Gelir  Yıllık Ortalama Satın Alım Miktarı  \\\n",
       "0          748266.440879                        32010.900881   \n",
       "1          246298.609605                         4145.729891   \n",
       "2          268582.732360                         9924.379414   \n",
       "3          327721.837865                         6417.780714   \n",
       "4          397431.626948                         7886.663061   \n",
       "\n",
       "   Yıllık Ortalama Sipariş Verilen Ürün Adedi Öbek İsmi  \\\n",
       "0                                   37.310644    obek_4   \n",
       "1                                   11.554851    obek_5   \n",
       "2                                   55.353236    obek_8   \n",
       "3                                   15.417239    obek_3   \n",
       "4                                   14.689837    obek_3   \n",
       "\n",
       "   Yıllık Ortalama Sepete Atılan Ürün Adedi  Cinsiyet_Erkek  Cinsiyet_Kadın  \\\n",
       "0                                102.936904               0               1   \n",
       "1                                 82.176053               1               0   \n",
       "2                                141.661426               1               0   \n",
       "3                                 17.097397               1               0   \n",
       "4                                 20.470459               1               0   \n",
       "\n",
       "   Yaş Grubu_18-30  Yaş Grubu_31-40  Yaş Grubu_41-50  ...  \\\n",
       "0                0                1                0  ...   \n",
       "1                0                0                0  ...   \n",
       "2                1                0                0  ...   \n",
       "3                0                0                0  ...   \n",
       "4                0                1                0  ...   \n",
       "\n",
       "   Yaşadığı Şehir_Köy veya Kasaba  Yaşadığı Şehir_Küçük Şehir  \\\n",
       "0                               0                           0   \n",
       "1                               0                           1   \n",
       "2                               0                           1   \n",
       "3                               0                           0   \n",
       "4                               0                           0   \n",
       "\n",
       "   Yaşadığı Şehir_Kırsal  \\\n",
       "0                      0   \n",
       "1                      0   \n",
       "2                      0   \n",
       "3                      1   \n",
       "4                      0   \n",
       "\n",
       "   En Çok İlgilendiği Ürün Grubu_Elektronik ve Teknolojik Ürünler  \\\n",
       "0                                                  1                \n",
       "1                                                  0                \n",
       "2                                                  0                \n",
       "3                                                  0                \n",
       "4                                                  0                \n",
       "\n",
       "   En Çok İlgilendiği Ürün Grubu_Ev ve Mobilya  \\\n",
       "0                                            0   \n",
       "1                                            0   \n",
       "2                                            0   \n",
       "3                                            0   \n",
       "4                                            0   \n",
       "\n",
       "   En Çok İlgilendiği Ürün Grubu_Giyim  \\\n",
       "0                                    0   \n",
       "1                                    0   \n",
       "2                                    1   \n",
       "3                                    1   \n",
       "4                                    1   \n",
       "\n",
       "   En Çok İlgilendiği Ürün Grubu_Kozmetik  \\\n",
       "0                                       0   \n",
       "1                                       0   \n",
       "2                                       0   \n",
       "3                                       0   \n",
       "4                                       0   \n",
       "\n",
       "   En Çok İlgilendiği Ürün Grubu_Spor Malzemeleri  \\\n",
       "0                                               0   \n",
       "1                                               1   \n",
       "2                                               0   \n",
       "3                                               0   \n",
       "4                                               0   \n",
       "\n",
       "   Eğitime Devam Etme Durumu_Ediyor  Eğitime Devam Etme Durumu_Etmiyor  \n",
       "0                                 0                                  1  \n",
       "1                                 0                                  1  \n",
       "2                                 1                                  0  \n",
       "3                                 0                                  1  \n",
       "4                                 0                                  1  \n",
       "\n",
       "[5 rows x 38 columns]"
      ]
     },
     "execution_count": 40,
     "metadata": {},
     "output_type": "execute_result"
    }
   ],
   "source": [
    "app_train_encode.head()"
   ]
  },
  {
   "cell_type": "code",
   "execution_count": null,
   "metadata": {},
   "outputs": [],
   "source": []
  },
  {
   "cell_type": "code",
   "execution_count": null,
   "metadata": {},
   "outputs": [],
   "source": []
  },
  {
   "cell_type": "code",
   "execution_count": null,
   "metadata": {},
   "outputs": [],
   "source": []
  },
  {
   "cell_type": "code",
   "execution_count": 70,
   "metadata": {},
   "outputs": [
    {
     "name": "stdout",
     "output_type": "stream",
     "text": [
      "Train shape: (4914, 37) | Val Shape: (546, 37)\n",
      "Positive Count in Val Split: obek_4obek_5obek_8obek_3obek_3obek_8obek_3obek_5obek_3obek_6obek_5obek_1obek_7obek_3obek_7obek_5obek_7obek_6obek_6obek_6obek_5obek_3obek_8obek_8obek_4obek_8obek_8obek_6obek_8obek_6obek_7obek_8obek_3obek_1obek_7obek_5obek_6obek_4obek_3obek_5obek_7obek_8obek_6obek_1obek_4obek_6obek_5obek_5obek_5obek_5obek_8obek_6obek_8obek_6obek_6obek_5obek_6obek_7obek_6obek_4obek_7obek_5obek_6obek_4obek_3obek_3obek_4obek_2obek_4obek_7obek_2obek_5obek_6obek_4obek_8obek_1obek_1obek_2obek_8obek_6obek_5obek_7obek_2obek_1obek_4obek_4obek_4obek_6obek_1obek_1obek_1obek_3obek_1obek_1obek_8obek_5obek_2obek_6obek_3obek_2obek_7obek_5obek_7obek_2obek_8obek_4obek_4obek_7obek_5obek_1obek_4obek_5obek_3obek_4obek_1obek_3obek_7obek_6obek_3obek_6obek_6obek_5obek_8obek_5obek_6obek_4obek_5obek_6obek_6obek_4obek_7obek_6obek_5obek_1obek_4obek_5obek_6obek_5obek_5obek_2obek_8obek_8obek_5obek_6obek_4obek_7obek_3obek_2obek_8obek_7obek_3obek_1obek_3obek_2obek_4obek_8obek_4obek_2obek_5obek_7obek_6obek_8obek_6obek_7obek_1obek_8obek_3obek_1obek_2obek_1obek_2obek_7obek_7obek_3obek_2obek_8obek_8obek_2obek_1obek_7obek_8obek_1obek_1obek_6obek_6obek_2obek_4obek_2obek_6obek_7obek_6obek_7obek_7obek_1obek_2obek_6obek_2obek_2obek_5obek_7obek_3obek_1obek_6obek_4obek_6obek_3obek_5obek_1obek_1obek_5obek_4obek_5obek_1obek_2obek_5obek_5obek_7obek_5obek_8obek_2obek_5obek_7obek_6obek_3obek_7obek_4obek_1obek_8obek_5obek_3obek_6obek_2obek_2obek_4obek_6obek_5obek_4obek_3obek_8obek_3obek_2obek_2obek_7obek_6obek_4obek_2obek_7obek_3obek_5obek_6obek_2obek_1obek_5obek_6obek_4obek_1obek_4obek_4obek_3obek_3obek_8obek_3obek_6obek_1obek_7obek_2obek_8obek_7obek_1obek_3obek_2obek_1obek_8obek_5obek_3obek_1obek_6obek_7obek_2obek_2obek_4obek_5obek_8obek_8obek_8obek_2obek_1obek_8obek_2obek_3obek_3obek_8obek_4obek_4obek_2obek_2obek_3obek_3obek_6obek_7obek_5obek_7obek_1obek_3obek_6obek_8obek_5obek_7obek_1obek_3obek_6obek_8obek_4obek_4obek_6obek_8obek_4obek_1obek_6obek_5obek_2obek_3obek_1obek_5obek_1obek_8obek_1obek_8obek_5obek_4obek_7obek_7obek_8obek_8obek_3obek_4obek_8obek_1obek_8obek_5obek_8obek_5obek_4obek_3obek_4obek_6obek_2obek_7obek_4obek_4obek_8obek_6obek_6obek_2obek_7obek_8obek_3obek_3obek_8obek_3obek_4obek_3obek_5obek_8obek_7obek_6obek_6obek_1obek_8obek_7obek_8obek_2obek_7obek_4obek_5obek_8obek_4obek_8obek_2obek_2obek_1obek_1obek_4obek_3obek_8obek_4obek_5obek_1obek_1obek_2obek_3obek_8obek_5obek_7obek_1obek_3obek_7obek_1obek_2obek_6obek_8obek_6obek_8obek_6obek_2obek_1obek_8obek_8obek_4obek_2obek_7obek_1obek_3obek_5obek_5obek_8obek_5obek_8obek_4obek_8obek_4obek_6obek_4obek_6obek_6obek_1obek_2obek_5obek_5obek_5obek_4obek_2obek_3obek_2obek_8obek_1obek_2obek_7obek_8obek_8obek_5obek_5obek_4obek_5obek_2obek_6obek_2obek_6obek_3obek_5obek_7obek_4obek_6obek_3obek_5obek_6obek_7obek_6obek_5obek_5obek_2obek_7obek_7obek_4obek_4obek_3obek_4obek_2obek_8obek_2obek_3obek_3obek_8obek_1obek_8obek_3obek_6obek_5obek_3obek_8obek_1obek_5obek_8obek_7obek_4obek_7obek_5obek_5obek_8obek_1obek_5obek_8obek_5obek_3obek_3obek_5obek_8obek_6obek_1obek_2obek_7obek_8obek_5obek_7obek_8obek_7obek_6obek_1obek_1obek_4obek_6obek_6obek_6obek_3obek_7obek_6obek_4obek_2obek_2obek_1obek_1obek_2obek_7obek_3obek_7obek_8obek_8obek_1obek_3obek_6obek_5obek_1obek_5obek_8obek_2obek_7obek_2obek_6obek_5obek_5obek_3obek_4obek_3obek_6obek_2obek_4\n",
      "0:\tlearn: 1.5686077\ttest: 1.5751123\ttest1: 1.5686077\tbest: 1.5686077 (0)\ttotal: 195ms\tremaining: 3m 14s\n",
      "200:\tlearn: 0.1806370\ttest: 0.3536724\ttest1: 0.1806370\tbest: 0.1806370 (200)\ttotal: 2.01s\tremaining: 7.98s\n",
      "400:\tlearn: 0.1271438\ttest: 0.3711847\ttest1: 0.1271438\tbest: 0.1271438 (400)\ttotal: 3.71s\tremaining: 5.54s\n",
      "600:\tlearn: 0.0922069\ttest: 0.3848682\ttest1: 0.0922069\tbest: 0.0922069 (600)\ttotal: 5.38s\tremaining: 3.57s\n",
      "800:\tlearn: 0.0691090\ttest: 0.3997753\ttest1: 0.0691090\tbest: 0.0691090 (800)\ttotal: 7.19s\tremaining: 1.79s\n",
      "999:\tlearn: 0.0525662\ttest: 0.4142634\ttest1: 0.0525662\tbest: 0.0525662 (999)\ttotal: 9.16s\tremaining: 0us\n",
      "\n",
      "bestTest = 0.05256623406\n",
      "bestIteration = 999\n",
      "\n",
      "Positive Count in Predictions: obek_4obek_5obek_8obek_3obek_3obek_8obek_3obek_5obek_6obek_6obek_5obek_1obek_7obek_3obek_7obek_5obek_7obek_6obek_6obek_6obek_5obek_3obek_8obek_8obek_1obek_8obek_8obek_3obek_8obek_6obek_7obek_8obek_3obek_1obek_7obek_5obek_6obek_4obek_3obek_5obek_7obek_8obek_6obek_1obek_4obek_6obek_5obek_5obek_5obek_5obek_8obek_4obek_8obek_6obek_6obek_5obek_6obek_7obek_6obek_4obek_7obek_5obek_6obek_4obek_3obek_3obek_4obek_2obek_4obek_7obek_2obek_5obek_6obek_7obek_8obek_1obek_1obek_2obek_8obek_6obek_5obek_7obek_2obek_1obek_4obek_4obek_4obek_3obek_1obek_1obek_1obek_3obek_1obek_7obek_8obek_5obek_2obek_6obek_3obek_2obek_7obek_5obek_7obek_2obek_8obek_4obek_4obek_7obek_5obek_1obek_4obek_5obek_3obek_4obek_1obek_3obek_7obek_6obek_3obek_6obek_2obek_5obek_8obek_5obek_6obek_4obek_5obek_6obek_6obek_4obek_7obek_6obek_5obek_1obek_4obek_5obek_6obek_5obek_5obek_2obek_8obek_8obek_5obek_6obek_4obek_7obek_3obek_2obek_8obek_7obek_3obek_1obek_3obek_2obek_4obek_8obek_4obek_2obek_5obek_5obek_4obek_8obek_8obek_7obek_1obek_8obek_3obek_1obek_2obek_1obek_2obek_7obek_7obek_3obek_2obek_8obek_8obek_2obek_1obek_7obek_8obek_1obek_1obek_6obek_6obek_2obek_4obek_2obek_6obek_7obek_6obek_7obek_7obek_1obek_2obek_6obek_2obek_6obek_5obek_7obek_3obek_1obek_6obek_4obek_6obek_3obek_5obek_1obek_1obek_5obek_4obek_5obek_1obek_2obek_5obek_5obek_7obek_5obek_8obek_2obek_5obek_7obek_6obek_3obek_7obek_4obek_1obek_8obek_5obek_3obek_6obek_2obek_2obek_4obek_6obek_5obek_4obek_3obek_8obek_3obek_2obek_2obek_7obek_6obek_4obek_2obek_7obek_3obek_5obek_6obek_2obek_1obek_5obek_6obek_4obek_1obek_4obek_4obek_3obek_3obek_4obek_3obek_6obek_1obek_7obek_2obek_8obek_7obek_1obek_3obek_2obek_1obek_8obek_5obek_3obek_1obek_6obek_7obek_2obek_6obek_4obek_5obek_8obek_8obek_8obek_2obek_1obek_8obek_3obek_3obek_3obek_8obek_4obek_4obek_2obek_2obek_3obek_3obek_6obek_7obek_5obek_7obek_1obek_3obek_6obek_8obek_5obek_7obek_1obek_3obek_6obek_8obek_4obek_4obek_6obek_8obek_5obek_1obek_6obek_5obek_2obek_3obek_1obek_5obek_1obek_8obek_1obek_8obek_5obek_4obek_7obek_7obek_8obek_8obek_3obek_4obek_8obek_1obek_8obek_5obek_8obek_5obek_4obek_3obek_3obek_6obek_2obek_7obek_5obek_4obek_5obek_6obek_6obek_2obek_7obek_8obek_3obek_3obek_8obek_3obek_4obek_3obek_5obek_8obek_7obek_6obek_6obek_1obek_8obek_7obek_8obek_2obek_3obek_4obek_5obek_8obek_4obek_8obek_7obek_2obek_1obek_1obek_4obek_3obek_1obek_4obek_5obek_1obek_1obek_2obek_3obek_8obek_5obek_7obek_1obek_7obek_7obek_1obek_2obek_6obek_8obek_6obek_8obek_6obek_2obek_1obek_8obek_8obek_4obek_8obek_7obek_1obek_3obek_5obek_5obek_8obek_5obek_8obek_4obek_7obek_4obek_6obek_4obek_6obek_6obek_1obek_2obek_5obek_5obek_5obek_4obek_2obek_3obek_2obek_8obek_1obek_2obek_7obek_8obek_8obek_6obek_5obek_4obek_5obek_2obek_6obek_2obek_6obek_3obek_5obek_7obek_4obek_6obek_3obek_5obek_6obek_7obek_7obek_5obek_5obek_2obek_7obek_7obek_4obek_4obek_3obek_4obek_2obek_8obek_2obek_3obek_3obek_8obek_1obek_8obek_3obek_6obek_5obek_3obek_8obek_1obek_5obek_8obek_7obek_4obek_7obek_5obek_5obek_8obek_1obek_5obek_8obek_5obek_3obek_3obek_5obek_2obek_6obek_1obek_2obek_7obek_8obek_5obek_7obek_8obek_7obek_6obek_1obek_1obek_4obek_6obek_6obek_6obek_3obek_7obek_6obek_4obek_6obek_2obek_1obek_4obek_2obek_7obek_3obek_7obek_8obek_8obek_1obek_3obek_6obek_5obek_1obek_5obek_8obek_2obek_7obek_2obek_6obek_5obek_5obek_3obek_4obek_7obek_6obek_5obek_4\n",
      "Accuracy:  0.9413919413919414\n",
      "Fold F1:  0.9407724560071776\n",
      "Fold Precision:  0.9415606255097538\n",
      "Fold Recall:  0.9411043636515755\n",
      "\n",
      " ********************************************************************** \n",
      "\n",
      "Train shape: (4914, 37) | Val Shape: (546, 37)\n",
      "Positive Count in Val Split: obek_4obek_7obek_4obek_5obek_6obek_1obek_1obek_3obek_8obek_7obek_3obek_2obek_2obek_6obek_3obek_4obek_7obek_3obek_4obek_8obek_7obek_8obek_4obek_5obek_3obek_7obek_5obek_8obek_6obek_7obek_2obek_7obek_1obek_1obek_5obek_1obek_6obek_8obek_6obek_1obek_2obek_3obek_3obek_1obek_2obek_6obek_5obek_5obek_8obek_3obek_5obek_8obek_5obek_7obek_2obek_1obek_3obek_2obek_1obek_8obek_5obek_7obek_5obek_1obek_7obek_3obek_4obek_5obek_2obek_7obek_8obek_7obek_5obek_5obek_4obek_8obek_8obek_7obek_3obek_2obek_8obek_4obek_3obek_1obek_6obek_7obek_5obek_4obek_1obek_4obek_4obek_2obek_1obek_3obek_6obek_3obek_4obek_4obek_8obek_7obek_8obek_4obek_4obek_7obek_3obek_2obek_3obek_5obek_5obek_5obek_1obek_1obek_6obek_4obek_7obek_8obek_2obek_7obek_5obek_6obek_3obek_4obek_7obek_2obek_8obek_4obek_7obek_2obek_3obek_3obek_8obek_8obek_5obek_8obek_7obek_3obek_2obek_6obek_5obek_1obek_5obek_1obek_8obek_2obek_8obek_5obek_4obek_1obek_4obek_2obek_1obek_7obek_7obek_3obek_7obek_7obek_3obek_5obek_2obek_5obek_2obek_1obek_1obek_4obek_6obek_4obek_6obek_4obek_8obek_6obek_5obek_7obek_2obek_5obek_8obek_3obek_5obek_4obek_7obek_4obek_2obek_3obek_5obek_1obek_8obek_4obek_4obek_8obek_7obek_5obek_2obek_4obek_6obek_8obek_8obek_8obek_4obek_1obek_4obek_1obek_7obek_3obek_6obek_1obek_1obek_1obek_1obek_7obek_8obek_4obek_5obek_5obek_5obek_1obek_1obek_6obek_8obek_3obek_2obek_4obek_8obek_3obek_2obek_7obek_5obek_8obek_4obek_8obek_5obek_8obek_3obek_5obek_5obek_3obek_3obek_8obek_4obek_7obek_3obek_1obek_4obek_2obek_8obek_4obek_5obek_8obek_3obek_8obek_7obek_6obek_2obek_3obek_1obek_8obek_1obek_5obek_3obek_2obek_5obek_8obek_3obek_4obek_4obek_6obek_2obek_1obek_6obek_6obek_3obek_1obek_2obek_7obek_6obek_1obek_8obek_4obek_8obek_4obek_8obek_6obek_3obek_4obek_4obek_7obek_1obek_8obek_7obek_5obek_6obek_6obek_1obek_2obek_4obek_5obek_5obek_7obek_4obek_3obek_6obek_5obek_1obek_8obek_5obek_6obek_6obek_3obek_1obek_7obek_7obek_5obek_2obek_3obek_1obek_5obek_1obek_2obek_3obek_7obek_6obek_8obek_4obek_1obek_3obek_5obek_3obek_2obek_7obek_4obek_2obek_7obek_8obek_7obek_5obek_7obek_1obek_1obek_1obek_8obek_1obek_3obek_6obek_6obek_5obek_6obek_6obek_5obek_8obek_3obek_2obek_1obek_5obek_5obek_2obek_8obek_2obek_6obek_6obek_8obek_5obek_5obek_8obek_2obek_8obek_1obek_7obek_3obek_7obek_3obek_5obek_3obek_1obek_6obek_6obek_3obek_2obek_7obek_5obek_8obek_2obek_4obek_1obek_4obek_4obek_1obek_8obek_3obek_5obek_7obek_7obek_4obek_1obek_4obek_6obek_6obek_5obek_5obek_1obek_2obek_5obek_6obek_2obek_5obek_5obek_3obek_6obek_1obek_3obek_2obek_1obek_5obek_8obek_1obek_3obek_6obek_7obek_1obek_6obek_4obek_1obek_2obek_5obek_1obek_5obek_2obek_1obek_3obek_5obek_6obek_7obek_5obek_3obek_7obek_6obek_4obek_4obek_4obek_4obek_4obek_1obek_3obek_3obek_5obek_3obek_5obek_8obek_3obek_5obek_5obek_1obek_7obek_1obek_8obek_1obek_6obek_8obek_6obek_2obek_8obek_6obek_2obek_3obek_7obek_1obek_8obek_3obek_1obek_5obek_3obek_6obek_6obek_1obek_4obek_3obek_5obek_8obek_3obek_3obek_2obek_7obek_6obek_8obek_3obek_1obek_4obek_4obek_5obek_6obek_7obek_5obek_2obek_4obek_4obek_8obek_6obek_7obek_6obek_1obek_4obek_4obek_5obek_6obek_8obek_7obek_2obek_1obek_1obek_5obek_7obek_7obek_6obek_4obek_6obek_1obek_4obek_8obek_7obek_6obek_1obek_4obek_6obek_7obek_5obek_4obek_5obek_2obek_3obek_1obek_5obek_1obek_7obek_7obek_4obek_1obek_8obek_5obek_4obek_6obek_8obek_1obek_4obek_4obek_6obek_1obek_4obek_8obek_6\n",
      "0:\tlearn: 1.5638685\ttest: 1.5698087\ttest1: 1.5638685\tbest: 1.5638685 (0)\ttotal: 10.8ms\tremaining: 10.8s\n",
      "200:\tlearn: 0.1812568\ttest: 0.3193738\ttest1: 0.1812568\tbest: 0.1812568 (200)\ttotal: 1.97s\tremaining: 7.83s\n",
      "400:\tlearn: 0.1285893\ttest: 0.3309741\ttest1: 0.1285893\tbest: 0.1285893 (400)\ttotal: 3.96s\tremaining: 5.91s\n",
      "600:\tlearn: 0.0938219\ttest: 0.3407040\ttest1: 0.0938219\tbest: 0.0938219 (600)\ttotal: 5.93s\tremaining: 3.94s\n",
      "800:\tlearn: 0.0684118\ttest: 0.3508885\ttest1: 0.0684118\tbest: 0.0684118 (800)\ttotal: 7.86s\tremaining: 1.95s\n",
      "999:\tlearn: 0.0518725\ttest: 0.3623282\ttest1: 0.0518725\tbest: 0.0518725 (999)\ttotal: 9.85s\tremaining: 0us\n",
      "\n",
      "bestTest = 0.05187247507\n",
      "bestIteration = 999\n",
      "\n",
      "Positive Count in Predictions: obek_4obek_7obek_4obek_5obek_6obek_1obek_1obek_7obek_8obek_7obek_3obek_8obek_2obek_6obek_3obek_6obek_7obek_3obek_4obek_8obek_7obek_8obek_4obek_5obek_3obek_7obek_5obek_8obek_6obek_7obek_2obek_7obek_1obek_1obek_5obek_1obek_6obek_8obek_6obek_1obek_2obek_1obek_3obek_1obek_2obek_6obek_5obek_5obek_8obek_3obek_5obek_8obek_5obek_7obek_2obek_1obek_3obek_2obek_1obek_8obek_5obek_7obek_5obek_1obek_7obek_3obek_4obek_5obek_2obek_7obek_8obek_7obek_5obek_5obek_4obek_8obek_8obek_3obek_3obek_2obek_8obek_4obek_3obek_1obek_6obek_7obek_5obek_4obek_1obek_4obek_4obek_3obek_1obek_3obek_6obek_3obek_4obek_4obek_8obek_7obek_8obek_4obek_4obek_7obek_3obek_2obek_3obek_5obek_5obek_5obek_1obek_1obek_6obek_4obek_7obek_8obek_2obek_7obek_5obek_6obek_6obek_4obek_7obek_2obek_8obek_5obek_7obek_2obek_3obek_3obek_8obek_8obek_5obek_8obek_7obek_3obek_2obek_6obek_5obek_1obek_5obek_1obek_8obek_2obek_8obek_5obek_4obek_1obek_4obek_2obek_1obek_7obek_7obek_3obek_7obek_7obek_1obek_5obek_2obek_5obek_7obek_1obek_1obek_4obek_6obek_4obek_6obek_4obek_8obek_6obek_5obek_7obek_2obek_5obek_8obek_3obek_5obek_4obek_7obek_4obek_2obek_3obek_5obek_1obek_8obek_8obek_4obek_8obek_7obek_5obek_2obek_4obek_6obek_8obek_8obek_8obek_8obek_1obek_4obek_1obek_7obek_3obek_6obek_1obek_1obek_1obek_1obek_7obek_8obek_4obek_5obek_5obek_5obek_1obek_1obek_6obek_2obek_3obek_2obek_4obek_8obek_3obek_2obek_7obek_5obek_8obek_4obek_8obek_5obek_8obek_3obek_5obek_1obek_3obek_3obek_8obek_4obek_7obek_3obek_7obek_4obek_2obek_8obek_4obek_5obek_4obek_3obek_8obek_7obek_6obek_2obek_3obek_1obek_8obek_1obek_5obek_3obek_2obek_5obek_8obek_3obek_4obek_4obek_6obek_2obek_1obek_6obek_6obek_3obek_1obek_2obek_7obek_6obek_1obek_8obek_3obek_8obek_4obek_8obek_6obek_3obek_4obek_4obek_7obek_3obek_8obek_7obek_5obek_6obek_6obek_1obek_2obek_4obek_5obek_5obek_7obek_4obek_3obek_6obek_5obek_1obek_8obek_5obek_6obek_6obek_3obek_1obek_7obek_7obek_5obek_2obek_3obek_1obek_5obek_1obek_2obek_3obek_7obek_6obek_8obek_4obek_1obek_3obek_5obek_3obek_2obek_7obek_4obek_2obek_7obek_8obek_7obek_5obek_7obek_1obek_1obek_1obek_8obek_1obek_3obek_6obek_6obek_5obek_6obek_6obek_5obek_8obek_3obek_2obek_1obek_5obek_5obek_2obek_8obek_2obek_6obek_6obek_8obek_5obek_5obek_8obek_2obek_8obek_1obek_7obek_3obek_7obek_1obek_5obek_3obek_1obek_6obek_6obek_3obek_2obek_7obek_5obek_8obek_2obek_4obek_1obek_4obek_4obek_3obek_8obek_3obek_5obek_7obek_7obek_4obek_1obek_4obek_6obek_6obek_5obek_5obek_1obek_2obek_5obek_6obek_2obek_5obek_6obek_3obek_6obek_1obek_3obek_2obek_1obek_5obek_8obek_1obek_3obek_6obek_7obek_1obek_6obek_4obek_1obek_2obek_5obek_1obek_5obek_2obek_1obek_3obek_5obek_6obek_7obek_5obek_3obek_2obek_6obek_4obek_4obek_7obek_6obek_4obek_1obek_3obek_3obek_5obek_3obek_5obek_8obek_3obek_5obek_5obek_1obek_7obek_1obek_8obek_1obek_6obek_8obek_6obek_2obek_8obek_6obek_2obek_3obek_7obek_1obek_8obek_3obek_1obek_5obek_3obek_5obek_6obek_1obek_1obek_3obek_5obek_8obek_3obek_3obek_2obek_6obek_6obek_8obek_3obek_1obek_3obek_4obek_5obek_6obek_7obek_5obek_2obek_4obek_4obek_8obek_6obek_7obek_6obek_1obek_4obek_8obek_5obek_6obek_8obek_7obek_2obek_1obek_1obek_5obek_7obek_7obek_6obek_4obek_6obek_1obek_7obek_8obek_7obek_6obek_1obek_4obek_6obek_7obek_5obek_4obek_5obek_2obek_3obek_1obek_5obek_1obek_7obek_7obek_4obek_1obek_8obek_5obek_4obek_6obek_8obek_1obek_4obek_4obek_6obek_1obek_4obek_8obek_6\n",
      "Accuracy:  0.945054945054945\n",
      "Fold F1:  0.9443520389356908\n",
      "Fold Precision:  0.945202344654844\n",
      "Fold Recall:  0.9451511365420384\n",
      "\n",
      " ********************************************************************** \n",
      "\n",
      "Train shape: (4914, 37) | Val Shape: (546, 37)\n",
      "Positive Count in Val Split: obek_4obek_7obek_1obek_4obek_1obek_6obek_2obek_4obek_1obek_8obek_1obek_5obek_4obek_5obek_7obek_1obek_5obek_6obek_5obek_5obek_8obek_6obek_1obek_4obek_7obek_7obek_1obek_3obek_1obek_2obek_5obek_5obek_8obek_1obek_1obek_4obek_3obek_2obek_3obek_8obek_8obek_7obek_4obek_7obek_4obek_4obek_3obek_3obek_1obek_1obek_8obek_2obek_8obek_4obek_7obek_5obek_3obek_6obek_8obek_1obek_3obek_2obek_8obek_6obek_7obek_8obek_4obek_8obek_1obek_8obek_5obek_1obek_3obek_2obek_6obek_4obek_6obek_3obek_8obek_8obek_6obek_5obek_2obek_5obek_5obek_4obek_7obek_8obek_6obek_2obek_1obek_1obek_6obek_7obek_5obek_7obek_4obek_8obek_4obek_8obek_1obek_4obek_2obek_5obek_6obek_2obek_8obek_2obek_8obek_8obek_4obek_8obek_4obek_8obek_2obek_1obek_5obek_3obek_2obek_7obek_3obek_8obek_7obek_4obek_5obek_6obek_8obek_4obek_3obek_5obek_5obek_8obek_4obek_3obek_7obek_8obek_5obek_6obek_1obek_1obek_8obek_5obek_5obek_8obek_4obek_1obek_6obek_4obek_1obek_2obek_2obek_3obek_1obek_3obek_1obek_4obek_8obek_7obek_3obek_4obek_3obek_7obek_2obek_4obek_1obek_3obek_6obek_6obek_2obek_1obek_2obek_1obek_4obek_7obek_3obek_6obek_3obek_3obek_7obek_7obek_2obek_6obek_1obek_4obek_7obek_1obek_1obek_8obek_5obek_8obek_5obek_1obek_4obek_4obek_4obek_5obek_3obek_1obek_4obek_6obek_5obek_7obek_1obek_4obek_4obek_8obek_1obek_8obek_6obek_6obek_3obek_7obek_6obek_1obek_8obek_4obek_7obek_7obek_8obek_8obek_5obek_7obek_1obek_4obek_2obek_3obek_1obek_5obek_5obek_4obek_6obek_1obek_1obek_8obek_6obek_2obek_8obek_1obek_6obek_3obek_7obek_6obek_3obek_8obek_5obek_3obek_3obek_7obek_3obek_5obek_5obek_8obek_1obek_8obek_1obek_8obek_5obek_5obek_7obek_4obek_6obek_4obek_2obek_2obek_7obek_3obek_1obek_2obek_1obek_2obek_6obek_2obek_5obek_7obek_4obek_5obek_7obek_4obek_7obek_2obek_5obek_6obek_8obek_7obek_5obek_1obek_6obek_6obek_3obek_5obek_8obek_6obek_4obek_4obek_7obek_3obek_8obek_1obek_3obek_8obek_3obek_5obek_6obek_8obek_4obek_5obek_5obek_3obek_6obek_7obek_2obek_8obek_1obek_3obek_4obek_5obek_6obek_2obek_5obek_5obek_2obek_3obek_1obek_1obek_3obek_8obek_3obek_4obek_7obek_4obek_7obek_6obek_3obek_7obek_1obek_7obek_1obek_5obek_3obek_4obek_4obek_5obek_7obek_3obek_7obek_8obek_4obek_5obek_1obek_3obek_6obek_3obek_8obek_5obek_7obek_6obek_2obek_5obek_5obek_4obek_7obek_7obek_7obek_7obek_4obek_5obek_8obek_5obek_5obek_5obek_8obek_2obek_3obek_3obek_6obek_1obek_3obek_3obek_4obek_8obek_7obek_1obek_2obek_7obek_4obek_5obek_4obek_4obek_8obek_6obek_3obek_8obek_3obek_1obek_3obek_7obek_7obek_5obek_2obek_1obek_6obek_6obek_3obek_3obek_7obek_4obek_6obek_6obek_4obek_7obek_4obek_8obek_2obek_2obek_8obek_7obek_8obek_7obek_5obek_8obek_1obek_7obek_6obek_8obek_6obek_8obek_7obek_6obek_3obek_8obek_5obek_8obek_8obek_8obek_8obek_5obek_6obek_8obek_6obek_8obek_6obek_5obek_7obek_7obek_8obek_4obek_3obek_2obek_7obek_4obek_6obek_3obek_6obek_6obek_2obek_2obek_4obek_7obek_7obek_3obek_5obek_7obek_1obek_7obek_4obek_4obek_2obek_6obek_4obek_3obek_5obek_8obek_3obek_4obek_7obek_1obek_2obek_4obek_1obek_8obek_3obek_4obek_4obek_2obek_7obek_2obek_7obek_7obek_5obek_5obek_4obek_4obek_1obek_1obek_3obek_3obek_6obek_8obek_7obek_2obek_6obek_8obek_4obek_3obek_8obek_2obek_4obek_6obek_6obek_6obek_8obek_7obek_1obek_1obek_1obek_7obek_4obek_4obek_2obek_4obek_3obek_7obek_2obek_6obek_1obek_3obek_6obek_6obek_3obek_4obek_4obek_1obek_1obek_3obek_3obek_1obek_2obek_3obek_8obek_5obek_4obek_3obek_6obek_1obek_1obek_7\n",
      "0:\tlearn: 1.5327357\ttest: 1.5308137\ttest1: 1.5327357\tbest: 1.5327357 (0)\ttotal: 11.2ms\tremaining: 11.2s\n",
      "200:\tlearn: 0.1870459\ttest: 0.2575819\ttest1: 0.1870459\tbest: 0.1870459 (200)\ttotal: 1.98s\tremaining: 7.86s\n",
      "400:\tlearn: 0.1333877\ttest: 0.2681904\ttest1: 0.1333877\tbest: 0.1333877 (400)\ttotal: 3.95s\tremaining: 5.9s\n",
      "600:\tlearn: 0.0956879\ttest: 0.2775104\ttest1: 0.0956879\tbest: 0.0956879 (600)\ttotal: 6.03s\tremaining: 4s\n",
      "800:\tlearn: 0.0710633\ttest: 0.2884359\ttest1: 0.0710633\tbest: 0.0710633 (800)\ttotal: 8.11s\tremaining: 2.01s\n",
      "999:\tlearn: 0.0538356\ttest: 0.2956999\ttest1: 0.0538356\tbest: 0.0538356 (999)\ttotal: 10.1s\tremaining: 0us\n",
      "\n",
      "bestTest = 0.05383556434\n",
      "bestIteration = 999\n",
      "\n",
      "Positive Count in Predictions: obek_4obek_7obek_1obek_4obek_1obek_6obek_2obek_4obek_1obek_8obek_1obek_5obek_4obek_5obek_7obek_1obek_5obek_6obek_5obek_5obek_8obek_6obek_1obek_4obek_7obek_7obek_1obek_3obek_1obek_2obek_5obek_5obek_8obek_1obek_1obek_4obek_3obek_2obek_3obek_8obek_8obek_7obek_4obek_7obek_4obek_4obek_3obek_3obek_1obek_1obek_8obek_2obek_8obek_4obek_7obek_5obek_3obek_6obek_8obek_1obek_3obek_2obek_8obek_6obek_7obek_8obek_4obek_8obek_1obek_8obek_5obek_1obek_3obek_2obek_6obek_4obek_6obek_3obek_8obek_8obek_6obek_5obek_2obek_5obek_5obek_4obek_7obek_8obek_6obek_2obek_1obek_1obek_6obek_7obek_5obek_7obek_4obek_8obek_4obek_8obek_1obek_4obek_2obek_5obek_6obek_2obek_8obek_2obek_8obek_8obek_4obek_8obek_4obek_8obek_2obek_1obek_5obek_3obek_2obek_7obek_3obek_8obek_7obek_4obek_5obek_6obek_8obek_8obek_3obek_5obek_5obek_8obek_4obek_3obek_7obek_8obek_5obek_6obek_1obek_1obek_8obek_5obek_5obek_8obek_4obek_1obek_6obek_4obek_1obek_2obek_2obek_3obek_1obek_3obek_1obek_3obek_5obek_7obek_3obek_4obek_3obek_7obek_2obek_4obek_1obek_3obek_6obek_6obek_2obek_1obek_2obek_1obek_4obek_7obek_3obek_6obek_3obek_3obek_7obek_7obek_2obek_6obek_7obek_4obek_7obek_1obek_1obek_8obek_5obek_8obek_5obek_1obek_4obek_4obek_4obek_5obek_3obek_1obek_4obek_6obek_5obek_7obek_1obek_4obek_3obek_8obek_1obek_8obek_6obek_6obek_3obek_7obek_4obek_1obek_8obek_4obek_7obek_7obek_8obek_8obek_5obek_7obek_1obek_4obek_2obek_3obek_1obek_5obek_5obek_4obek_6obek_1obek_1obek_8obek_6obek_1obek_8obek_1obek_6obek_3obek_7obek_6obek_3obek_8obek_5obek_3obek_3obek_7obek_3obek_5obek_5obek_8obek_1obek_8obek_1obek_7obek_5obek_5obek_7obek_4obek_6obek_4obek_2obek_2obek_7obek_3obek_1obek_2obek_1obek_2obek_6obek_2obek_5obek_7obek_4obek_5obek_7obek_4obek_7obek_2obek_5obek_6obek_8obek_8obek_5obek_1obek_6obek_6obek_3obek_5obek_8obek_6obek_4obek_4obek_7obek_3obek_8obek_1obek_3obek_8obek_3obek_5obek_6obek_8obek_4obek_5obek_5obek_3obek_6obek_8obek_2obek_8obek_1obek_6obek_4obek_5obek_6obek_2obek_5obek_5obek_6obek_3obek_1obek_5obek_3obek_8obek_3obek_4obek_7obek_4obek_7obek_6obek_3obek_7obek_1obek_7obek_1obek_5obek_3obek_4obek_4obek_5obek_7obek_3obek_7obek_8obek_4obek_5obek_1obek_3obek_6obek_3obek_8obek_5obek_7obek_6obek_2obek_5obek_5obek_4obek_7obek_7obek_1obek_7obek_4obek_5obek_8obek_5obek_5obek_5obek_8obek_2obek_3obek_3obek_7obek_1obek_3obek_3obek_4obek_8obek_7obek_1obek_2obek_7obek_4obek_5obek_4obek_4obek_8obek_6obek_3obek_8obek_3obek_1obek_3obek_7obek_7obek_5obek_2obek_1obek_6obek_6obek_3obek_3obek_7obek_4obek_6obek_6obek_4obek_7obek_4obek_8obek_2obek_2obek_8obek_7obek_8obek_7obek_5obek_8obek_7obek_4obek_6obek_8obek_6obek_8obek_4obek_6obek_3obek_8obek_5obek_8obek_8obek_8obek_8obek_5obek_6obek_8obek_6obek_8obek_6obek_5obek_7obek_6obek_8obek_4obek_3obek_2obek_7obek_4obek_6obek_3obek_6obek_6obek_2obek_2obek_4obek_7obek_7obek_3obek_5obek_7obek_1obek_7obek_4obek_4obek_2obek_6obek_4obek_3obek_5obek_8obek_3obek_4obek_7obek_3obek_2obek_4obek_1obek_8obek_3obek_4obek_4obek_2obek_7obek_2obek_7obek_7obek_5obek_5obek_4obek_4obek_1obek_1obek_3obek_3obek_6obek_8obek_7obek_2obek_6obek_8obek_5obek_3obek_8obek_2obek_4obek_6obek_6obek_6obek_8obek_7obek_1obek_1obek_1obek_7obek_4obek_4obek_2obek_4obek_3obek_7obek_8obek_6obek_1obek_3obek_6obek_6obek_3obek_4obek_4obek_1obek_1obek_3obek_3obek_1obek_2obek_3obek_8obek_5obek_4obek_3obek_6obek_1obek_1obek_7\n",
      "Accuracy:  0.9597069597069597\n",
      "Fold F1:  0.9602403587026311\n",
      "Fold Precision:  0.9615664938382851\n",
      "Fold Recall:  0.9594965534641168\n",
      "\n",
      " ********************************************************************** \n",
      "\n",
      "Train shape: (4914, 37) | Val Shape: (546, 37)\n",
      "Positive Count in Val Split: obek_8obek_7obek_7obek_2obek_2obek_3obek_5obek_3obek_8obek_2obek_4obek_4obek_5obek_3obek_7obek_8obek_5obek_8obek_4obek_6obek_4obek_6obek_6obek_5obek_3obek_4obek_5obek_2obek_1obek_3obek_1obek_4obek_5obek_1obek_5obek_8obek_7obek_6obek_5obek_8obek_5obek_1obek_4obek_1obek_5obek_7obek_8obek_5obek_3obek_6obek_8obek_7obek_5obek_5obek_3obek_5obek_5obek_8obek_7obek_3obek_8obek_5obek_5obek_2obek_8obek_8obek_4obek_5obek_1obek_5obek_2obek_6obek_3obek_8obek_4obek_6obek_3obek_2obek_4obek_3obek_6obek_8obek_8obek_2obek_6obek_6obek_2obek_2obek_3obek_3obek_8obek_3obek_3obek_7obek_5obek_2obek_4obek_1obek_1obek_4obek_4obek_3obek_2obek_1obek_3obek_5obek_2obek_5obek_5obek_6obek_7obek_2obek_5obek_7obek_6obek_6obek_2obek_6obek_2obek_2obek_3obek_6obek_4obek_6obek_2obek_4obek_6obek_4obek_8obek_1obek_6obek_4obek_5obek_7obek_6obek_3obek_8obek_6obek_4obek_3obek_7obek_3obek_2obek_7obek_1obek_7obek_8obek_1obek_3obek_1obek_4obek_3obek_7obek_4obek_7obek_6obek_2obek_8obek_8obek_6obek_2obek_8obek_1obek_5obek_6obek_1obek_6obek_2obek_2obek_7obek_5obek_7obek_8obek_5obek_4obek_1obek_6obek_5obek_2obek_3obek_8obek_6obek_6obek_1obek_2obek_8obek_3obek_7obek_7obek_2obek_3obek_8obek_6obek_7obek_3obek_3obek_7obek_1obek_1obek_5obek_2obek_4obek_5obek_2obek_5obek_1obek_4obek_4obek_8obek_6obek_7obek_1obek_3obek_8obek_3obek_2obek_6obek_2obek_1obek_7obek_2obek_3obek_7obek_4obek_4obek_4obek_3obek_6obek_8obek_5obek_2obek_1obek_6obek_4obek_2obek_1obek_1obek_5obek_7obek_8obek_6obek_8obek_8obek_5obek_2obek_3obek_7obek_6obek_1obek_7obek_5obek_3obek_2obek_6obek_8obek_4obek_5obek_6obek_4obek_5obek_7obek_7obek_5obek_4obek_5obek_7obek_3obek_6obek_4obek_2obek_7obek_3obek_7obek_1obek_8obek_2obek_5obek_5obek_2obek_5obek_4obek_6obek_4obek_4obek_6obek_6obek_1obek_2obek_4obek_7obek_8obek_3obek_5obek_7obek_1obek_7obek_6obek_5obek_6obek_4obek_6obek_2obek_7obek_6obek_7obek_3obek_1obek_2obek_2obek_6obek_2obek_1obek_1obek_1obek_2obek_1obek_6obek_5obek_7obek_6obek_5obek_7obek_6obek_7obek_4obek_3obek_5obek_7obek_8obek_5obek_7obek_5obek_7obek_5obek_5obek_5obek_1obek_3obek_1obek_4obek_1obek_3obek_7obek_6obek_1obek_3obek_8obek_4obek_2obek_2obek_4obek_1obek_5obek_2obek_2obek_6obek_2obek_4obek_7obek_4obek_4obek_1obek_6obek_3obek_7obek_5obek_8obek_7obek_6obek_8obek_7obek_6obek_8obek_3obek_4obek_7obek_6obek_1obek_4obek_4obek_3obek_5obek_8obek_7obek_8obek_6obek_8obek_4obek_6obek_3obek_2obek_6obek_3obek_4obek_7obek_4obek_3obek_5obek_7obek_7obek_7obek_3obek_2obek_5obek_8obek_5obek_5obek_8obek_5obek_2obek_8obek_8obek_3obek_1obek_8obek_5obek_5obek_7obek_1obek_2obek_4obek_3obek_6obek_6obek_8obek_4obek_5obek_1obek_7obek_3obek_3obek_3obek_7obek_5obek_6obek_5obek_3obek_7obek_1obek_5obek_5obek_3obek_2obek_8obek_6obek_3obek_8obek_7obek_6obek_6obek_7obek_7obek_6obek_7obek_1obek_4obek_5obek_1obek_4obek_8obek_6obek_7obek_4obek_1obek_4obek_7obek_4obek_4obek_7obek_3obek_2obek_5obek_4obek_1obek_7obek_7obek_3obek_6obek_3obek_3obek_7obek_7obek_7obek_6obek_6obek_2obek_2obek_2obek_6obek_2obek_5obek_7obek_2obek_3obek_5obek_7obek_5obek_1obek_5obek_3obek_4obek_8obek_8obek_7obek_2obek_7obek_4obek_3obek_2obek_3obek_1obek_7obek_1obek_1obek_3obek_8obek_3obek_7obek_5obek_4obek_6obek_7obek_3obek_3obek_6obek_4obek_3obek_2obek_1obek_8obek_3obek_1obek_1obek_6obek_4obek_6obek_8obek_5obek_2obek_8obek_6obek_6obek_6obek_6obek_3obek_8\n",
      "0:\tlearn: 1.5365789\ttest: 1.5411799\ttest1: 1.5365789\tbest: 1.5365789 (0)\ttotal: 11.2ms\tremaining: 11.2s\n",
      "200:\tlearn: 0.1887787\ttest: 0.3069814\ttest1: 0.1887787\tbest: 0.1887787 (200)\ttotal: 2.24s\tremaining: 8.92s\n",
      "400:\tlearn: 0.1341529\ttest: 0.3165118\ttest1: 0.1341529\tbest: 0.1341529 (400)\ttotal: 4.27s\tremaining: 6.38s\n",
      "600:\tlearn: 0.0969780\ttest: 0.3270503\ttest1: 0.0969780\tbest: 0.0969780 (600)\ttotal: 6.41s\tremaining: 4.25s\n",
      "800:\tlearn: 0.0716280\ttest: 0.3381769\ttest1: 0.0716280\tbest: 0.0716280 (800)\ttotal: 8.8s\tremaining: 2.19s\n",
      "999:\tlearn: 0.0544015\ttest: 0.3490473\ttest1: 0.0544015\tbest: 0.0544015 (999)\ttotal: 11.3s\tremaining: 0us\n",
      "\n",
      "bestTest = 0.05440147982\n",
      "bestIteration = 999\n",
      "\n",
      "Positive Count in Predictions: obek_8obek_7obek_7obek_2obek_2obek_3obek_5obek_3obek_8obek_2obek_4obek_4obek_5obek_3obek_7obek_8obek_5obek_8obek_4obek_6obek_4obek_1obek_6obek_5obek_3obek_4obek_5obek_2obek_1obek_3obek_1obek_1obek_5obek_1obek_5obek_8obek_7obek_6obek_5obek_8obek_5obek_1obek_4obek_1obek_4obek_7obek_8obek_5obek_3obek_6obek_8obek_7obek_5obek_5obek_3obek_5obek_5obek_8obek_7obek_3obek_8obek_5obek_5obek_2obek_8obek_8obek_4obek_5obek_1obek_5obek_2obek_6obek_3obek_8obek_4obek_6obek_3obek_2obek_4obek_3obek_6obek_4obek_8obek_2obek_6obek_6obek_2obek_2obek_3obek_3obek_8obek_3obek_3obek_7obek_5obek_2obek_4obek_1obek_1obek_4obek_4obek_3obek_2obek_1obek_3obek_6obek_2obek_5obek_5obek_6obek_7obek_2obek_5obek_7obek_6obek_6obek_2obek_6obek_2obek_2obek_3obek_6obek_4obek_6obek_2obek_4obek_6obek_4obek_8obek_1obek_6obek_4obek_5obek_7obek_6obek_3obek_8obek_6obek_4obek_3obek_7obek_3obek_2obek_7obek_1obek_7obek_8obek_1obek_3obek_1obek_4obek_3obek_7obek_4obek_7obek_6obek_2obek_8obek_8obek_6obek_2obek_8obek_1obek_5obek_6obek_1obek_6obek_2obek_2obek_7obek_5obek_7obek_5obek_5obek_4obek_1obek_6obek_5obek_2obek_3obek_8obek_6obek_6obek_1obek_2obek_4obek_3obek_7obek_7obek_2obek_3obek_8obek_6obek_7obek_3obek_3obek_7obek_8obek_1obek_5obek_4obek_4obek_5obek_2obek_5obek_1obek_4obek_4obek_8obek_6obek_7obek_1obek_5obek_8obek_3obek_2obek_6obek_2obek_1obek_7obek_2obek_3obek_7obek_4obek_4obek_4obek_3obek_6obek_8obek_5obek_2obek_1obek_6obek_4obek_2obek_3obek_1obek_5obek_7obek_8obek_6obek_8obek_8obek_5obek_2obek_3obek_7obek_6obek_1obek_7obek_5obek_3obek_1obek_6obek_8obek_4obek_5obek_6obek_4obek_5obek_7obek_7obek_5obek_4obek_5obek_7obek_3obek_6obek_4obek_2obek_7obek_3obek_7obek_1obek_8obek_2obek_5obek_5obek_2obek_5obek_4obek_6obek_4obek_4obek_6obek_6obek_1obek_2obek_4obek_7obek_8obek_3obek_5obek_7obek_1obek_7obek_6obek_1obek_5obek_4obek_7obek_2obek_7obek_6obek_7obek_3obek_2obek_2obek_2obek_6obek_2obek_1obek_1obek_1obek_2obek_1obek_6obek_5obek_7obek_6obek_5obek_7obek_6obek_7obek_3obek_3obek_5obek_8obek_8obek_5obek_7obek_5obek_7obek_5obek_5obek_5obek_1obek_3obek_1obek_4obek_1obek_3obek_7obek_6obek_1obek_3obek_8obek_4obek_2obek_2obek_4obek_1obek_8obek_2obek_2obek_6obek_2obek_4obek_7obek_4obek_4obek_1obek_6obek_3obek_7obek_5obek_8obek_7obek_6obek_3obek_7obek_6obek_8obek_3obek_4obek_7obek_6obek_1obek_4obek_4obek_3obek_5obek_8obek_7obek_8obek_6obek_8obek_4obek_6obek_3obek_2obek_6obek_3obek_4obek_7obek_4obek_3obek_5obek_7obek_7obek_7obek_3obek_2obek_5obek_8obek_5obek_5obek_8obek_5obek_2obek_8obek_8obek_3obek_6obek_8obek_5obek_5obek_7obek_1obek_2obek_4obek_3obek_6obek_6obek_8obek_4obek_5obek_1obek_7obek_3obek_3obek_3obek_7obek_6obek_6obek_5obek_3obek_7obek_1obek_5obek_5obek_3obek_2obek_8obek_6obek_3obek_8obek_7obek_6obek_6obek_7obek_7obek_6obek_7obek_1obek_4obek_5obek_4obek_4obek_8obek_6obek_7obek_4obek_1obek_4obek_7obek_5obek_4obek_7obek_3obek_2obek_5obek_4obek_1obek_7obek_7obek_3obek_6obek_3obek_3obek_7obek_7obek_7obek_6obek_6obek_2obek_2obek_2obek_6obek_2obek_5obek_7obek_2obek_3obek_5obek_7obek_5obek_1obek_5obek_3obek_4obek_8obek_8obek_7obek_2obek_7obek_4obek_3obek_2obek_3obek_1obek_7obek_1obek_1obek_3obek_8obek_3obek_7obek_5obek_4obek_6obek_7obek_3obek_3obek_6obek_4obek_3obek_2obek_1obek_8obek_3obek_1obek_1obek_6obek_4obek_6obek_8obek_5obek_2obek_8obek_1obek_2obek_6obek_6obek_3obek_8\n",
      "Accuracy:  0.9523809523809523\n",
      "Fold F1:  0.950705595412286\n",
      "Fold Precision:  0.9506610231664111\n",
      "Fold Recall:  0.9509198419020146\n",
      "\n",
      " ********************************************************************** \n",
      "\n",
      "Train shape: (4914, 37) | Val Shape: (546, 37)\n",
      "Positive Count in Val Split: obek_8obek_2obek_8obek_4obek_8obek_8obek_1obek_7obek_3obek_6obek_5obek_7obek_4obek_3obek_5obek_6obek_3obek_3obek_7obek_8obek_7obek_1obek_5obek_8obek_6obek_4obek_3obek_3obek_5obek_6obek_8obek_5obek_3obek_7obek_8obek_5obek_1obek_7obek_3obek_8obek_5obek_4obek_1obek_5obek_4obek_7obek_2obek_4obek_7obek_8obek_5obek_2obek_3obek_2obek_5obek_6obek_1obek_8obek_6obek_4obek_2obek_7obek_2obek_3obek_1obek_8obek_5obek_8obek_8obek_8obek_2obek_1obek_3obek_8obek_5obek_2obek_4obek_7obek_5obek_1obek_4obek_6obek_8obek_4obek_8obek_8obek_3obek_8obek_7obek_8obek_2obek_8obek_8obek_6obek_5obek_8obek_8obek_1obek_3obek_8obek_1obek_8obek_6obek_8obek_8obek_6obek_7obek_4obek_2obek_1obek_4obek_6obek_8obek_6obek_5obek_7obek_3obek_7obek_4obek_1obek_2obek_8obek_6obek_1obek_6obek_8obek_1obek_4obek_3obek_6obek_5obek_3obek_3obek_2obek_4obek_3obek_5obek_4obek_1obek_1obek_4obek_3obek_8obek_7obek_3obek_6obek_1obek_4obek_4obek_4obek_4obek_5obek_3obek_7obek_1obek_3obek_6obek_3obek_1obek_4obek_8obek_5obek_3obek_3obek_3obek_2obek_3obek_2obek_3obek_5obek_6obek_8obek_5obek_8obek_4obek_1obek_8obek_2obek_3obek_2obek_6obek_7obek_7obek_7obek_3obek_7obek_3obek_2obek_1obek_5obek_1obek_6obek_7obek_4obek_8obek_4obek_1obek_6obek_2obek_4obek_4obek_7obek_6obek_2obek_8obek_5obek_5obek_4obek_3obek_1obek_8obek_7obek_7obek_4obek_7obek_6obek_4obek_6obek_6obek_5obek_8obek_3obek_6obek_8obek_4obek_4obek_3obek_5obek_6obek_8obek_4obek_7obek_6obek_7obek_2obek_6obek_2obek_8obek_8obek_6obek_1obek_3obek_3obek_7obek_1obek_1obek_1obek_2obek_3obek_4obek_6obek_1obek_1obek_8obek_6obek_3obek_1obek_6obek_8obek_6obek_5obek_1obek_2obek_5obek_7obek_6obek_6obek_4obek_3obek_3obek_4obek_8obek_8obek_8obek_5obek_4obek_7obek_7obek_7obek_3obek_3obek_6obek_1obek_2obek_6obek_3obek_3obek_7obek_3obek_3obek_8obek_3obek_7obek_8obek_1obek_4obek_5obek_7obek_3obek_7obek_8obek_1obek_3obek_8obek_2obek_6obek_7obek_5obek_3obek_2obek_2obek_7obek_1obek_4obek_7obek_2obek_8obek_7obek_3obek_2obek_6obek_8obek_7obek_6obek_1obek_4obek_1obek_2obek_8obek_7obek_4obek_6obek_4obek_5obek_4obek_7obek_8obek_3obek_4obek_7obek_7obek_6obek_4obek_7obek_6obek_7obek_3obek_7obek_6obek_2obek_5obek_3obek_3obek_3obek_7obek_1obek_2obek_3obek_6obek_2obek_3obek_1obek_2obek_5obek_2obek_8obek_3obek_4obek_2obek_3obek_8obek_8obek_1obek_3obek_3obek_8obek_3obek_3obek_4obek_7obek_5obek_2obek_6obek_3obek_6obek_6obek_1obek_6obek_2obek_4obek_1obek_7obek_7obek_3obek_5obek_3obek_2obek_1obek_6obek_3obek_2obek_7obek_3obek_4obek_3obek_1obek_5obek_5obek_2obek_4obek_1obek_5obek_5obek_6obek_4obek_6obek_3obek_2obek_8obek_8obek_1obek_5obek_6obek_5obek_2obek_8obek_8obek_4obek_6obek_4obek_8obek_8obek_3obek_6obek_6obek_5obek_5obek_8obek_1obek_7obek_4obek_7obek_5obek_4obek_4obek_6obek_8obek_5obek_3obek_7obek_3obek_6obek_1obek_1obek_7obek_7obek_7obek_7obek_1obek_7obek_6obek_1obek_7obek_3obek_1obek_6obek_5obek_1obek_6obek_3obek_7obek_2obek_8obek_4obek_1obek_8obek_8obek_7obek_1obek_5obek_6obek_2obek_7obek_4obek_7obek_3obek_4obek_3obek_1obek_8obek_4obek_8obek_8obek_1obek_5obek_2obek_1obek_7obek_6obek_5obek_1obek_8obek_4obek_7obek_1obek_8obek_4obek_5obek_4obek_4obek_6obek_2obek_6obek_1obek_5obek_1obek_3obek_7obek_8obek_8obek_7obek_6obek_1obek_3obek_5obek_5obek_7obek_8obek_4obek_7obek_1obek_1obek_7obek_8obek_5obek_1obek_8obek_6obek_4obek_2obek_6obek_6obek_4obek_5obek_8obek_7\n",
      "0:\tlearn: 1.5399035\ttest: 1.5220234\ttest1: 1.5399035\tbest: 1.5399035 (0)\ttotal: 13.6ms\tremaining: 13.6s\n",
      "200:\tlearn: 0.1959580\ttest: 0.1807575\ttest1: 0.1959580\tbest: 0.1959580 (200)\ttotal: 2.53s\tremaining: 10.1s\n",
      "400:\tlearn: 0.1411911\ttest: 0.1860329\ttest1: 0.1411911\tbest: 0.1411911 (400)\ttotal: 5.12s\tremaining: 7.64s\n",
      "600:\tlearn: 0.1029361\ttest: 0.1902031\ttest1: 0.1029361\tbest: 0.1029361 (600)\ttotal: 10.9s\tremaining: 7.26s\n",
      "800:\tlearn: 0.0756771\ttest: 0.1924100\ttest1: 0.0756771\tbest: 0.0756771 (800)\ttotal: 17.4s\tremaining: 4.33s\n",
      "999:\tlearn: 0.0573837\ttest: 0.1959789\ttest1: 0.0573837\tbest: 0.0573837 (999)\ttotal: 22.3s\tremaining: 0us\n",
      "\n",
      "bestTest = 0.05738371621\n",
      "bestIteration = 999\n",
      "\n",
      "Positive Count in Predictions: obek_8obek_2obek_8obek_4obek_8obek_8obek_1obek_7obek_3obek_6obek_5obek_7obek_4obek_3obek_5obek_6obek_3obek_3obek_7obek_8obek_2obek_8obek_5obek_8obek_6obek_4obek_3obek_3obek_5obek_6obek_8obek_5obek_3obek_7obek_8obek_5obek_1obek_7obek_3obek_8obek_5obek_4obek_1obek_5obek_1obek_7obek_2obek_4obek_7obek_8obek_5obek_2obek_3obek_2obek_5obek_6obek_1obek_8obek_1obek_4obek_2obek_7obek_2obek_3obek_1obek_8obek_5obek_8obek_8obek_8obek_2obek_1obek_3obek_8obek_5obek_2obek_4obek_7obek_5obek_1obek_4obek_6obek_8obek_4obek_8obek_8obek_6obek_8obek_7obek_8obek_2obek_8obek_8obek_6obek_5obek_8obek_8obek_1obek_3obek_8obek_1obek_8obek_6obek_8obek_8obek_6obek_7obek_4obek_2obek_1obek_4obek_6obek_8obek_6obek_5obek_7obek_3obek_7obek_4obek_1obek_2obek_8obek_6obek_1obek_6obek_8obek_1obek_4obek_3obek_6obek_5obek_3obek_3obek_2obek_4obek_3obek_5obek_4obek_1obek_1obek_4obek_3obek_8obek_7obek_3obek_6obek_1obek_4obek_4obek_4obek_4obek_5obek_3obek_7obek_1obek_3obek_6obek_3obek_1obek_4obek_8obek_5obek_3obek_3obek_3obek_2obek_7obek_2obek_3obek_5obek_6obek_8obek_5obek_8obek_4obek_1obek_8obek_2obek_3obek_2obek_6obek_7obek_7obek_7obek_3obek_7obek_3obek_2obek_1obek_5obek_1obek_6obek_7obek_4obek_8obek_4obek_1obek_6obek_2obek_4obek_4obek_7obek_6obek_2obek_8obek_5obek_5obek_4obek_3obek_1obek_8obek_7obek_7obek_4obek_7obek_6obek_6obek_6obek_6obek_5obek_1obek_3obek_6obek_8obek_4obek_4obek_3obek_5obek_6obek_8obek_4obek_7obek_6obek_7obek_2obek_6obek_2obek_8obek_8obek_6obek_1obek_3obek_3obek_7obek_1obek_1obek_1obek_2obek_3obek_4obek_6obek_1obek_1obek_8obek_6obek_3obek_1obek_6obek_8obek_6obek_5obek_1obek_2obek_5obek_7obek_6obek_6obek_4obek_3obek_3obek_4obek_8obek_8obek_8obek_5obek_4obek_7obek_7obek_7obek_3obek_3obek_6obek_1obek_2obek_6obek_3obek_3obek_7obek_3obek_3obek_8obek_3obek_7obek_8obek_1obek_4obek_5obek_7obek_3obek_7obek_8obek_1obek_3obek_8obek_2obek_6obek_7obek_5obek_3obek_2obek_2obek_7obek_1obek_4obek_7obek_2obek_8obek_7obek_3obek_2obek_6obek_8obek_7obek_6obek_1obek_4obek_1obek_2obek_8obek_7obek_4obek_6obek_4obek_5obek_4obek_7obek_8obek_3obek_4obek_7obek_7obek_6obek_4obek_7obek_6obek_7obek_3obek_7obek_6obek_2obek_5obek_3obek_3obek_3obek_7obek_1obek_2obek_3obek_6obek_2obek_3obek_1obek_2obek_5obek_2obek_8obek_3obek_4obek_2obek_3obek_8obek_8obek_1obek_3obek_3obek_8obek_3obek_3obek_4obek_7obek_5obek_2obek_6obek_3obek_6obek_6obek_1obek_6obek_2obek_4obek_1obek_7obek_7obek_3obek_1obek_3obek_2obek_1obek_6obek_3obek_2obek_7obek_3obek_4obek_3obek_1obek_5obek_5obek_2obek_4obek_1obek_5obek_5obek_6obek_4obek_6obek_3obek_2obek_8obek_8obek_1obek_5obek_7obek_5obek_8obek_8obek_8obek_4obek_6obek_4obek_8obek_8obek_3obek_6obek_6obek_5obek_5obek_8obek_1obek_7obek_4obek_7obek_5obek_4obek_4obek_6obek_8obek_5obek_3obek_7obek_3obek_6obek_1obek_1obek_7obek_7obek_7obek_7obek_1obek_7obek_6obek_1obek_7obek_3obek_1obek_6obek_5obek_1obek_6obek_3obek_7obek_2obek_8obek_4obek_1obek_8obek_8obek_7obek_1obek_5obek_6obek_2obek_7obek_4obek_7obek_3obek_4obek_3obek_1obek_8obek_4obek_8obek_8obek_6obek_5obek_2obek_1obek_7obek_6obek_5obek_1obek_8obek_4obek_7obek_1obek_8obek_4obek_5obek_4obek_4obek_6obek_2obek_6obek_1obek_5obek_1obek_3obek_7obek_8obek_8obek_7obek_6obek_1obek_3obek_5obek_5obek_7obek_8obek_4obek_7obek_1obek_1obek_7obek_8obek_5obek_3obek_8obek_6obek_4obek_2obek_6obek_6obek_8obek_5obek_8obek_7\n",
      "Accuracy:  0.9743589743589743\n",
      "Fold F1:  0.9746765606322874\n",
      "Fold Precision:  0.9754851250853926\n",
      "Fold Recall:  0.9740959476267312\n",
      "\n",
      " ********************************************************************** \n",
      "\n",
      "Train shape: (4914, 37) | Val Shape: (546, 37)\n",
      "Positive Count in Val Split: obek_8obek_5obek_7obek_3obek_8obek_7obek_8obek_8obek_8obek_1obek_1obek_7obek_8obek_8obek_8obek_3obek_4obek_1obek_7obek_7obek_3obek_5obek_5obek_4obek_7obek_2obek_2obek_4obek_8obek_3obek_1obek_2obek_8obek_5obek_5obek_7obek_6obek_3obek_1obek_2obek_2obek_3obek_2obek_8obek_1obek_1obek_4obek_8obek_2obek_5obek_6obek_5obek_6obek_1obek_3obek_1obek_7obek_8obek_3obek_3obek_6obek_5obek_7obek_3obek_7obek_8obek_3obek_4obek_4obek_1obek_1obek_4obek_5obek_4obek_8obek_7obek_6obek_4obek_3obek_2obek_3obek_3obek_8obek_1obek_6obek_2obek_7obek_5obek_6obek_6obek_7obek_4obek_7obek_7obek_6obek_7obek_5obek_4obek_8obek_1obek_7obek_4obek_3obek_1obek_3obek_5obek_1obek_7obek_6obek_1obek_5obek_6obek_1obek_2obek_1obek_6obek_8obek_2obek_2obek_6obek_3obek_6obek_1obek_6obek_2obek_5obek_4obek_8obek_5obek_2obek_7obek_8obek_8obek_7obek_2obek_8obek_5obek_6obek_7obek_7obek_8obek_1obek_8obek_8obek_5obek_3obek_7obek_8obek_3obek_6obek_8obek_8obek_4obek_8obek_3obek_1obek_3obek_3obek_6obek_5obek_6obek_6obek_3obek_7obek_4obek_5obek_7obek_5obek_2obek_3obek_5obek_2obek_3obek_4obek_8obek_8obek_5obek_7obek_4obek_7obek_8obek_2obek_4obek_1obek_8obek_1obek_3obek_8obek_7obek_7obek_1obek_4obek_7obek_6obek_7obek_1obek_5obek_6obek_8obek_6obek_2obek_3obek_2obek_2obek_8obek_8obek_8obek_4obek_6obek_5obek_2obek_5obek_4obek_5obek_2obek_8obek_7obek_1obek_2obek_3obek_6obek_1obek_2obek_7obek_7obek_4obek_4obek_6obek_1obek_5obek_2obek_6obek_1obek_2obek_5obek_2obek_4obek_6obek_7obek_4obek_4obek_5obek_6obek_6obek_4obek_2obek_6obek_3obek_2obek_3obek_6obek_7obek_7obek_4obek_5obek_5obek_8obek_6obek_7obek_6obek_2obek_3obek_2obek_5obek_2obek_6obek_1obek_7obek_1obek_3obek_4obek_7obek_4obek_2obek_7obek_5obek_4obek_3obek_3obek_5obek_8obek_2obek_6obek_6obek_2obek_6obek_7obek_4obek_1obek_8obek_6obek_8obek_1obek_6obek_5obek_8obek_3obek_1obek_6obek_4obek_8obek_5obek_7obek_1obek_1obek_2obek_6obek_3obek_3obek_3obek_7obek_1obek_4obek_4obek_4obek_4obek_5obek_6obek_7obek_5obek_2obek_3obek_3obek_4obek_5obek_2obek_5obek_4obek_1obek_4obek_4obek_4obek_6obek_1obek_5obek_2obek_7obek_5obek_1obek_7obek_7obek_5obek_8obek_7obek_3obek_2obek_7obek_1obek_2obek_4obek_8obek_1obek_2obek_7obek_5obek_2obek_2obek_5obek_4obek_7obek_2obek_7obek_4obek_6obek_7obek_5obek_7obek_4obek_2obek_1obek_8obek_7obek_4obek_4obek_3obek_8obek_2obek_8obek_6obek_7obek_6obek_5obek_7obek_1obek_7obek_8obek_7obek_7obek_4obek_1obek_7obek_6obek_5obek_2obek_5obek_2obek_7obek_2obek_2obek_1obek_2obek_8obek_5obek_1obek_3obek_7obek_6obek_5obek_8obek_6obek_3obek_4obek_7obek_2obek_5obek_8obek_5obek_7obek_7obek_2obek_3obek_3obek_1obek_5obek_2obek_2obek_2obek_7obek_6obek_5obek_3obek_5obek_2obek_7obek_1obek_8obek_2obek_7obek_3obek_7obek_3obek_6obek_2obek_1obek_6obek_2obek_2obek_7obek_2obek_2obek_4obek_3obek_3obek_8obek_4obek_4obek_2obek_1obek_3obek_2obek_7obek_6obek_7obek_3obek_3obek_1obek_1obek_6obek_4obek_4obek_8obek_5obek_5obek_8obek_6obek_3obek_5obek_7obek_3obek_1obek_3obek_5obek_8obek_4obek_8obek_5obek_1obek_6obek_8obek_5obek_1obek_7obek_5obek_2obek_3obek_5obek_4obek_5obek_2obek_1obek_6obek_7obek_7obek_8obek_5obek_8obek_4obek_7obek_8obek_7obek_4obek_2obek_4obek_7obek_5obek_2obek_5obek_2obek_6obek_5obek_5obek_2obek_4obek_2obek_7obek_8obek_5obek_2obek_5obek_2obek_1obek_6obek_7obek_8obek_8obek_1obek_3obek_8obek_3obek_1obek_5obek_6obek_1obek_1obek_6obek_5\n",
      "0:\tlearn: 1.5381553\ttest: 1.5389213\ttest1: 1.5381553\tbest: 1.5381553 (0)\ttotal: 28.8ms\tremaining: 28.7s\n",
      "200:\tlearn: 0.1827166\ttest: 0.3170897\ttest1: 0.1827166\tbest: 0.1827166 (200)\ttotal: 2.46s\tremaining: 9.79s\n",
      "400:\tlearn: 0.1299347\ttest: 0.3335298\ttest1: 0.1299347\tbest: 0.1299347 (400)\ttotal: 4.93s\tremaining: 7.36s\n",
      "600:\tlearn: 0.0941496\ttest: 0.3460917\ttest1: 0.0941496\tbest: 0.0941496 (600)\ttotal: 7.28s\tremaining: 4.83s\n",
      "800:\tlearn: 0.0688931\ttest: 0.3573022\ttest1: 0.0688931\tbest: 0.0688931 (800)\ttotal: 9.56s\tremaining: 2.37s\n",
      "999:\tlearn: 0.0524065\ttest: 0.3680248\ttest1: 0.0524065\tbest: 0.0524065 (999)\ttotal: 11.9s\tremaining: 0us\n",
      "\n",
      "bestTest = 0.05240652794\n",
      "bestIteration = 999\n",
      "\n",
      "Positive Count in Predictions: obek_8obek_5obek_7obek_3obek_8obek_3obek_8obek_8obek_8obek_1obek_1obek_7obek_8obek_8obek_8obek_3obek_4obek_1obek_7obek_6obek_3obek_5obek_5obek_4obek_7obek_2obek_2obek_4obek_8obek_3obek_1obek_2obek_8obek_5obek_5obek_7obek_6obek_4obek_1obek_2obek_2obek_3obek_2obek_8obek_1obek_1obek_4obek_8obek_2obek_5obek_6obek_3obek_6obek_1obek_3obek_1obek_7obek_8obek_3obek_3obek_6obek_5obek_7obek_3obek_7obek_8obek_3obek_4obek_4obek_1obek_1obek_4obek_5obek_4obek_8obek_7obek_6obek_4obek_3obek_2obek_3obek_3obek_8obek_1obek_6obek_2obek_7obek_5obek_6obek_8obek_7obek_4obek_7obek_7obek_6obek_7obek_5obek_4obek_8obek_5obek_7obek_4obek_3obek_1obek_3obek_5obek_1obek_7obek_6obek_1obek_5obek_6obek_1obek_2obek_1obek_6obek_8obek_2obek_2obek_6obek_3obek_6obek_1obek_6obek_2obek_5obek_4obek_8obek_3obek_2obek_7obek_8obek_8obek_7obek_2obek_8obek_5obek_6obek_7obek_7obek_8obek_1obek_8obek_8obek_5obek_5obek_7obek_8obek_3obek_6obek_8obek_8obek_4obek_8obek_3obek_1obek_3obek_3obek_6obek_5obek_6obek_6obek_3obek_7obek_4obek_5obek_7obek_5obek_2obek_3obek_5obek_2obek_3obek_4obek_8obek_8obek_5obek_7obek_4obek_7obek_8obek_2obek_4obek_7obek_8obek_3obek_3obek_8obek_7obek_7obek_1obek_4obek_7obek_6obek_7obek_1obek_5obek_6obek_8obek_6obek_2obek_3obek_2obek_2obek_8obek_8obek_8obek_4obek_6obek_5obek_2obek_5obek_4obek_5obek_2obek_8obek_7obek_1obek_2obek_3obek_6obek_1obek_2obek_7obek_7obek_4obek_4obek_6obek_1obek_5obek_2obek_6obek_1obek_2obek_5obek_2obek_4obek_6obek_7obek_4obek_4obek_5obek_6obek_6obek_4obek_2obek_6obek_3obek_2obek_3obek_6obek_7obek_7obek_4obek_5obek_8obek_8obek_6obek_7obek_6obek_2obek_3obek_2obek_5obek_2obek_6obek_1obek_7obek_1obek_3obek_4obek_7obek_4obek_2obek_7obek_5obek_4obek_3obek_3obek_5obek_8obek_2obek_6obek_6obek_2obek_6obek_7obek_4obek_1obek_8obek_6obek_8obek_1obek_6obek_5obek_8obek_7obek_1obek_6obek_4obek_8obek_5obek_7obek_1obek_1obek_2obek_3obek_3obek_3obek_3obek_7obek_1obek_4obek_4obek_4obek_4obek_5obek_6obek_1obek_5obek_2obek_3obek_3obek_4obek_5obek_2obek_5obek_4obek_1obek_4obek_4obek_4obek_6obek_1obek_5obek_2obek_4obek_5obek_1obek_7obek_7obek_5obek_8obek_7obek_3obek_2obek_7obek_1obek_2obek_4obek_8obek_1obek_2obek_7obek_5obek_2obek_2obek_5obek_4obek_7obek_2obek_7obek_4obek_6obek_7obek_5obek_7obek_4obek_7obek_1obek_6obek_7obek_4obek_4obek_3obek_8obek_2obek_8obek_6obek_7obek_6obek_5obek_7obek_1obek_7obek_8obek_7obek_7obek_5obek_4obek_3obek_6obek_5obek_2obek_5obek_2obek_7obek_2obek_2obek_1obek_2obek_7obek_5obek_1obek_3obek_7obek_6obek_5obek_8obek_6obek_7obek_4obek_7obek_2obek_5obek_8obek_5obek_7obek_7obek_2obek_3obek_3obek_1obek_5obek_2obek_2obek_2obek_7obek_6obek_5obek_3obek_5obek_2obek_7obek_1obek_2obek_2obek_1obek_3obek_7obek_3obek_6obek_2obek_1obek_6obek_2obek_2obek_7obek_2obek_2obek_4obek_3obek_3obek_8obek_4obek_4obek_2obek_1obek_3obek_2obek_7obek_6obek_7obek_3obek_3obek_1obek_1obek_6obek_4obek_4obek_8obek_5obek_5obek_8obek_6obek_3obek_5obek_7obek_3obek_1obek_3obek_5obek_8obek_4obek_8obek_5obek_1obek_6obek_8obek_5obek_1obek_7obek_5obek_2obek_3obek_5obek_4obek_5obek_3obek_1obek_6obek_7obek_1obek_8obek_5obek_3obek_4obek_7obek_8obek_7obek_4obek_1obek_4obek_7obek_5obek_2obek_5obek_2obek_6obek_5obek_5obek_2obek_4obek_2obek_7obek_8obek_5obek_2obek_5obek_2obek_1obek_6obek_7obek_8obek_8obek_1obek_3obek_8obek_3obek_1obek_5obek_6obek_1obek_1obek_6obek_5\n",
      "Accuracy:  0.9487179487179487\n",
      "Fold F1:  0.9486299362586984\n",
      "Fold Precision:  0.948065159926719\n",
      "Fold Recall:  0.9496238242001966\n",
      "\n",
      " ********************************************************************** \n",
      "\n",
      "Train shape: (4914, 37) | Val Shape: (546, 37)\n",
      "Positive Count in Val Split: obek_5obek_1obek_4obek_8obek_4obek_1obek_5obek_1obek_3obek_4obek_1obek_3obek_5obek_3obek_4obek_5obek_3obek_8obek_4obek_1obek_4obek_6obek_2obek_6obek_7obek_8obek_4obek_3obek_6obek_5obek_6obek_6obek_1obek_8obek_1obek_7obek_8obek_8obek_7obek_1obek_7obek_1obek_7obek_3obek_1obek_7obek_6obek_2obek_8obek_2obek_5obek_7obek_1obek_1obek_2obek_3obek_4obek_8obek_3obek_4obek_1obek_8obek_6obek_1obek_7obek_1obek_4obek_5obek_3obek_2obek_1obek_3obek_4obek_7obek_3obek_5obek_7obek_1obek_5obek_1obek_7obek_3obek_6obek_7obek_1obek_7obek_4obek_3obek_2obek_7obek_7obek_1obek_1obek_7obek_4obek_7obek_3obek_8obek_6obek_2obek_1obek_5obek_4obek_7obek_8obek_6obek_4obek_1obek_5obek_5obek_7obek_4obek_6obek_1obek_1obek_8obek_8obek_8obek_7obek_8obek_1obek_2obek_3obek_6obek_5obek_4obek_3obek_4obek_1obek_4obek_5obek_5obek_6obek_1obek_8obek_5obek_4obek_2obek_1obek_1obek_4obek_4obek_8obek_6obek_2obek_4obek_8obek_8obek_3obek_1obek_1obek_8obek_3obek_3obek_4obek_4obek_1obek_5obek_2obek_6obek_6obek_8obek_5obek_5obek_8obek_5obek_1obek_7obek_4obek_8obek_4obek_6obek_7obek_4obek_4obek_5obek_4obek_7obek_2obek_7obek_4obek_1obek_8obek_7obek_1obek_8obek_6obek_2obek_1obek_4obek_5obek_3obek_4obek_5obek_8obek_1obek_1obek_7obek_3obek_3obek_6obek_6obek_1obek_4obek_6obek_1obek_1obek_8obek_3obek_7obek_8obek_1obek_3obek_1obek_1obek_2obek_7obek_2obek_5obek_7obek_5obek_1obek_6obek_3obek_2obek_3obek_1obek_2obek_5obek_6obek_2obek_7obek_5obek_4obek_3obek_6obek_2obek_5obek_5obek_7obek_7obek_3obek_6obek_7obek_2obek_7obek_8obek_6obek_3obek_1obek_2obek_3obek_1obek_4obek_3obek_3obek_5obek_8obek_8obek_4obek_3obek_5obek_6obek_8obek_8obek_1obek_5obek_6obek_4obek_5obek_8obek_6obek_2obek_3obek_7obek_2obek_3obek_4obek_3obek_5obek_2obek_7obek_7obek_8obek_1obek_7obek_2obek_8obek_8obek_3obek_3obek_1obek_8obek_4obek_6obek_8obek_8obek_5obek_1obek_4obek_2obek_4obek_1obek_5obek_1obek_6obek_6obek_5obek_6obek_5obek_1obek_1obek_7obek_2obek_2obek_5obek_6obek_7obek_5obek_2obek_8obek_8obek_1obek_3obek_6obek_6obek_2obek_4obek_2obek_3obek_5obek_7obek_4obek_3obek_1obek_6obek_5obek_5obek_1obek_3obek_1obek_3obek_3obek_3obek_2obek_7obek_3obek_6obek_8obek_4obek_3obek_1obek_1obek_2obek_5obek_3obek_4obek_1obek_7obek_1obek_5obek_4obek_2obek_4obek_1obek_4obek_6obek_6obek_6obek_3obek_6obek_1obek_4obek_6obek_5obek_1obek_7obek_7obek_5obek_1obek_7obek_8obek_4obek_1obek_5obek_1obek_1obek_1obek_5obek_1obek_3obek_7obek_2obek_4obek_3obek_4obek_3obek_5obek_5obek_7obek_8obek_5obek_3obek_2obek_2obek_4obek_1obek_5obek_8obek_1obek_4obek_5obek_3obek_8obek_7obek_1obek_7obek_5obek_8obek_8obek_7obek_3obek_7obek_5obek_3obek_1obek_4obek_1obek_1obek_4obek_2obek_6obek_8obek_5obek_3obek_1obek_8obek_4obek_5obek_1obek_5obek_5obek_4obek_6obek_8obek_6obek_3obek_4obek_2obek_8obek_1obek_5obek_2obek_5obek_4obek_1obek_3obek_6obek_8obek_7obek_6obek_1obek_2obek_4obek_5obek_1obek_5obek_5obek_1obek_5obek_8obek_7obek_5obek_1obek_6obek_6obek_8obek_4obek_1obek_6obek_6obek_7obek_4obek_4obek_8obek_6obek_6obek_8obek_3obek_6obek_4obek_8obek_7obek_5obek_8obek_1obek_1obek_4obek_2obek_8obek_8obek_5obek_4obek_1obek_7obek_4obek_8obek_4obek_8obek_3obek_5obek_4obek_2obek_1obek_5obek_1obek_4obek_5obek_6obek_7obek_7obek_1obek_1obek_2obek_6obek_6obek_7obek_3obek_2obek_1obek_1obek_7obek_5obek_5obek_2obek_1obek_2obek_7obek_5obek_6obek_3obek_7obek_5obek_2obek_8obek_4\n",
      "0:\tlearn: 1.5435996\ttest: 1.5449244\ttest1: 1.5435996\tbest: 1.5435996 (0)\ttotal: 15ms\tremaining: 15s\n",
      "200:\tlearn: 0.1877657\ttest: 0.2771831\ttest1: 0.1877657\tbest: 0.1877657 (200)\ttotal: 2.07s\tremaining: 8.24s\n",
      "400:\tlearn: 0.1315545\ttest: 0.2827808\ttest1: 0.1315545\tbest: 0.1315545 (400)\ttotal: 4.07s\tremaining: 6.07s\n",
      "600:\tlearn: 0.0939496\ttest: 0.2889722\ttest1: 0.0939496\tbest: 0.0939496 (600)\ttotal: 6.06s\tremaining: 4.03s\n",
      "800:\tlearn: 0.0688048\ttest: 0.2968640\ttest1: 0.0688048\tbest: 0.0688048 (800)\ttotal: 8.04s\tremaining: 2s\n",
      "999:\tlearn: 0.0523699\ttest: 0.3049803\ttest1: 0.0523699\tbest: 0.0523699 (999)\ttotal: 10.3s\tremaining: 0us\n",
      "\n",
      "bestTest = 0.0523699302\n",
      "bestIteration = 999\n",
      "\n",
      "Positive Count in Predictions: obek_5obek_1obek_4obek_8obek_4obek_1obek_5obek_1obek_3obek_4obek_1obek_3obek_5obek_3obek_4obek_5obek_3obek_8obek_4obek_1obek_4obek_6obek_2obek_6obek_7obek_8obek_4obek_3obek_6obek_5obek_6obek_6obek_1obek_8obek_1obek_7obek_8obek_8obek_7obek_1obek_7obek_1obek_3obek_3obek_1obek_7obek_6obek_2obek_8obek_2obek_5obek_7obek_1obek_1obek_2obek_3obek_4obek_8obek_3obek_1obek_1obek_8obek_6obek_1obek_7obek_1obek_4obek_5obek_3obek_2obek_1obek_3obek_4obek_7obek_3obek_5obek_4obek_1obek_5obek_1obek_7obek_3obek_6obek_7obek_1obek_7obek_4obek_3obek_2obek_7obek_7obek_1obek_1obek_7obek_4obek_7obek_3obek_8obek_6obek_2obek_1obek_5obek_4obek_7obek_8obek_6obek_3obek_1obek_5obek_5obek_7obek_4obek_6obek_1obek_1obek_8obek_8obek_8obek_7obek_8obek_1obek_2obek_3obek_6obek_5obek_4obek_3obek_7obek_1obek_4obek_5obek_5obek_6obek_1obek_8obek_5obek_4obek_2obek_1obek_1obek_4obek_4obek_8obek_6obek_2obek_4obek_8obek_8obek_3obek_1obek_1obek_8obek_3obek_3obek_4obek_4obek_1obek_5obek_7obek_6obek_6obek_8obek_5obek_5obek_8obek_5obek_1obek_7obek_4obek_8obek_4obek_6obek_7obek_4obek_4obek_6obek_4obek_7obek_2obek_7obek_4obek_1obek_8obek_7obek_1obek_8obek_6obek_2obek_4obek_4obek_5obek_3obek_4obek_5obek_8obek_1obek_1obek_7obek_3obek_3obek_6obek_6obek_1obek_4obek_6obek_1obek_1obek_8obek_3obek_7obek_8obek_1obek_3obek_1obek_1obek_2obek_7obek_2obek_5obek_7obek_8obek_1obek_6obek_3obek_2obek_3obek_1obek_2obek_5obek_6obek_2obek_7obek_5obek_4obek_3obek_6obek_2obek_5obek_5obek_7obek_7obek_3obek_6obek_7obek_2obek_7obek_8obek_6obek_3obek_1obek_2obek_3obek_1obek_4obek_3obek_3obek_5obek_8obek_4obek_4obek_3obek_5obek_6obek_8obek_8obek_1obek_5obek_3obek_4obek_5obek_8obek_6obek_2obek_3obek_7obek_2obek_3obek_4obek_3obek_5obek_2obek_7obek_7obek_8obek_5obek_7obek_2obek_8obek_8obek_3obek_3obek_1obek_8obek_4obek_6obek_8obek_8obek_5obek_1obek_4obek_2obek_4obek_1obek_5obek_1obek_6obek_6obek_5obek_6obek_5obek_1obek_1obek_7obek_2obek_2obek_5obek_6obek_7obek_5obek_2obek_8obek_8obek_1obek_3obek_6obek_2obek_2obek_4obek_2obek_3obek_5obek_7obek_4obek_3obek_1obek_6obek_5obek_5obek_1obek_3obek_1obek_3obek_3obek_3obek_2obek_7obek_3obek_6obek_8obek_6obek_3obek_1obek_1obek_2obek_5obek_3obek_4obek_1obek_7obek_1obek_5obek_4obek_2obek_4obek_1obek_6obek_6obek_6obek_6obek_3obek_6obek_1obek_4obek_6obek_2obek_1obek_7obek_7obek_5obek_3obek_7obek_8obek_3obek_1obek_5obek_3obek_1obek_1obek_5obek_1obek_3obek_7obek_2obek_4obek_3obek_4obek_3obek_5obek_5obek_7obek_8obek_5obek_3obek_2obek_2obek_4obek_1obek_5obek_8obek_1obek_8obek_5obek_3obek_8obek_7obek_1obek_7obek_5obek_8obek_8obek_7obek_3obek_7obek_5obek_3obek_1obek_4obek_1obek_1obek_4obek_2obek_6obek_8obek_5obek_3obek_1obek_8obek_4obek_5obek_1obek_5obek_5obek_4obek_6obek_8obek_6obek_3obek_4obek_2obek_8obek_1obek_8obek_2obek_5obek_4obek_1obek_3obek_6obek_8obek_7obek_6obek_1obek_2obek_4obek_5obek_1obek_5obek_5obek_1obek_5obek_8obek_7obek_5obek_1obek_6obek_6obek_8obek_4obek_1obek_6obek_8obek_8obek_4obek_4obek_8obek_6obek_6obek_8obek_3obek_6obek_2obek_8obek_7obek_5obek_8obek_1obek_1obek_4obek_2obek_8obek_8obek_5obek_4obek_1obek_7obek_4obek_8obek_4obek_8obek_3obek_5obek_4obek_2obek_1obek_5obek_7obek_4obek_5obek_6obek_7obek_7obek_1obek_1obek_2obek_6obek_6obek_7obek_3obek_2obek_1obek_1obek_7obek_5obek_5obek_2obek_1obek_2obek_7obek_5obek_6obek_3obek_7obek_5obek_2obek_8obek_4\n",
      "Accuracy:  0.9542124542124543\n",
      "Fold F1:  0.9534984296171394\n",
      "Fold Precision:  0.9517213264891846\n",
      "Fold Recall:  0.956573734435947\n",
      "\n",
      " ********************************************************************** \n",
      "\n",
      "Train shape: (4914, 37) | Val Shape: (546, 37)\n",
      "Positive Count in Val Split: obek_1obek_2obek_3obek_8obek_7obek_1obek_5obek_2obek_7obek_4obek_5obek_4obek_4obek_2obek_7obek_8obek_8obek_6obek_4obek_8obek_5obek_4obek_4obek_7obek_2obek_4obek_1obek_5obek_7obek_1obek_5obek_6obek_7obek_3obek_5obek_7obek_2obek_5obek_6obek_6obek_8obek_1obek_6obek_3obek_5obek_3obek_1obek_7obek_8obek_3obek_4obek_4obek_1obek_3obek_3obek_2obek_8obek_4obek_7obek_1obek_7obek_3obek_5obek_3obek_4obek_4obek_5obek_3obek_6obek_5obek_3obek_3obek_3obek_5obek_6obek_2obek_8obek_8obek_7obek_4obek_8obek_6obek_7obek_2obek_8obek_8obek_2obek_8obek_4obek_5obek_6obek_8obek_6obek_4obek_7obek_3obek_1obek_5obek_2obek_6obek_1obek_4obek_4obek_5obek_4obek_3obek_1obek_5obek_7obek_7obek_1obek_1obek_6obek_5obek_1obek_6obek_5obek_5obek_3obek_8obek_2obek_6obek_8obek_6obek_7obek_8obek_4obek_4obek_1obek_7obek_3obek_8obek_7obek_7obek_8obek_5obek_1obek_4obek_4obek_6obek_8obek_1obek_7obek_5obek_4obek_7obek_3obek_2obek_6obek_6obek_5obek_4obek_7obek_6obek_1obek_6obek_4obek_7obek_8obek_6obek_7obek_4obek_3obek_1obek_8obek_4obek_1obek_8obek_5obek_8obek_3obek_3obek_3obek_4obek_1obek_1obek_8obek_3obek_1obek_4obek_2obek_7obek_8obek_6obek_2obek_6obek_1obek_4obek_5obek_1obek_4obek_6obek_6obek_1obek_8obek_8obek_3obek_3obek_5obek_6obek_8obek_8obek_8obek_6obek_7obek_4obek_6obek_6obek_3obek_5obek_5obek_7obek_6obek_8obek_6obek_8obek_6obek_4obek_8obek_8obek_7obek_1obek_8obek_8obek_1obek_8obek_6obek_2obek_4obek_1obek_2obek_4obek_3obek_7obek_4obek_5obek_5obek_3obek_8obek_4obek_4obek_2obek_2obek_4obek_4obek_7obek_4obek_2obek_6obek_4obek_4obek_6obek_4obek_8obek_6obek_7obek_1obek_1obek_5obek_7obek_1obek_5obek_5obek_4obek_6obek_5obek_4obek_3obek_1obek_2obek_1obek_4obek_8obek_3obek_8obek_3obek_1obek_3obek_1obek_1obek_7obek_6obek_4obek_7obek_8obek_7obek_4obek_5obek_8obek_3obek_3obek_1obek_8obek_3obek_1obek_5obek_4obek_4obek_3obek_7obek_7obek_3obek_4obek_7obek_7obek_7obek_8obek_8obek_7obek_4obek_8obek_4obek_3obek_6obek_5obek_3obek_3obek_3obek_6obek_3obek_1obek_4obek_2obek_3obek_3obek_6obek_1obek_2obek_1obek_3obek_8obek_6obek_6obek_1obek_2obek_3obek_6obek_8obek_3obek_4obek_5obek_3obek_4obek_6obek_3obek_5obek_8obek_4obek_2obek_3obek_3obek_1obek_3obek_5obek_7obek_7obek_4obek_4obek_5obek_2obek_3obek_3obek_3obek_3obek_2obek_2obek_8obek_5obek_3obek_1obek_1obek_7obek_6obek_7obek_7obek_8obek_8obek_1obek_5obek_6obek_7obek_8obek_4obek_4obek_6obek_3obek_8obek_3obek_6obek_4obek_1obek_3obek_5obek_7obek_8obek_5obek_7obek_2obek_2obek_4obek_4obek_8obek_7obek_4obek_3obek_8obek_7obek_3obek_8obek_2obek_1obek_2obek_4obek_8obek_3obek_3obek_2obek_7obek_1obek_8obek_3obek_5obek_1obek_4obek_7obek_3obek_5obek_3obek_3obek_2obek_5obek_5obek_7obek_8obek_5obek_7obek_5obek_5obek_1obek_1obek_4obek_2obek_6obek_7obek_6obek_8obek_6obek_8obek_3obek_1obek_5obek_6obek_6obek_7obek_3obek_6obek_4obek_1obek_1obek_7obek_1obek_5obek_7obek_1obek_1obek_6obek_1obek_3obek_5obek_2obek_3obek_1obek_7obek_2obek_4obek_4obek_8obek_3obek_4obek_4obek_3obek_6obek_2obek_8obek_3obek_3obek_8obek_2obek_4obek_5obek_7obek_8obek_3obek_3obek_4obek_2obek_6obek_3obek_6obek_8obek_3obek_5obek_5obek_7obek_2obek_5obek_7obek_3obek_2obek_8obek_1obek_1obek_2obek_7obek_4obek_4obek_7obek_5obek_1obek_7obek_6obek_2obek_3obek_8obek_8obek_3obek_5obek_6obek_8obek_4obek_7obek_4obek_3obek_7obek_7obek_3obek_1obek_2obek_6obek_6obek_6obek_6obek_5obek_1obek_4obek_3\n",
      "0:\tlearn: 1.5597741\ttest: 1.5519737\ttest1: 1.5597741\tbest: 1.5597741 (0)\ttotal: 10.8ms\tremaining: 10.8s\n",
      "200:\tlearn: 0.1876989\ttest: 0.2753139\ttest1: 0.1876989\tbest: 0.1876989 (200)\ttotal: 2.1s\tremaining: 8.33s\n",
      "400:\tlearn: 0.1326182\ttest: 0.2874472\ttest1: 0.1326182\tbest: 0.1326182 (400)\ttotal: 4.24s\tremaining: 6.33s\n",
      "600:\tlearn: 0.0948033\ttest: 0.2992945\ttest1: 0.0948033\tbest: 0.0948033 (600)\ttotal: 6.34s\tremaining: 4.21s\n",
      "800:\tlearn: 0.0694788\ttest: 0.3124221\ttest1: 0.0694788\tbest: 0.0694788 (800)\ttotal: 8.33s\tremaining: 2.07s\n",
      "999:\tlearn: 0.0530806\ttest: 0.3205871\ttest1: 0.0530806\tbest: 0.0530806 (999)\ttotal: 10.3s\tremaining: 0us\n",
      "\n",
      "bestTest = 0.05308058275\n",
      "bestIteration = 999\n",
      "\n",
      "Positive Count in Predictions: obek_1obek_2obek_3obek_8obek_7obek_1obek_5obek_6obek_7obek_4obek_5obek_4obek_4obek_2obek_7obek_8obek_8obek_6obek_4obek_8obek_5obek_4obek_4obek_7obek_2obek_4obek_1obek_7obek_7obek_1obek_5obek_6obek_7obek_3obek_5obek_7obek_2obek_5obek_6obek_6obek_8obek_1obek_6obek_3obek_5obek_3obek_1obek_7obek_8obek_3obek_4obek_3obek_1obek_3obek_3obek_2obek_8obek_4obek_2obek_1obek_7obek_3obek_5obek_3obek_4obek_4obek_5obek_3obek_6obek_5obek_3obek_3obek_3obek_5obek_6obek_2obek_8obek_8obek_7obek_7obek_8obek_6obek_7obek_2obek_8obek_8obek_2obek_8obek_4obek_5obek_6obek_8obek_6obek_4obek_7obek_3obek_1obek_5obek_2obek_6obek_1obek_4obek_4obek_5obek_4obek_3obek_1obek_5obek_7obek_7obek_1obek_1obek_6obek_5obek_1obek_6obek_5obek_5obek_3obek_8obek_2obek_6obek_8obek_6obek_7obek_8obek_4obek_4obek_1obek_7obek_3obek_8obek_7obek_7obek_8obek_5obek_1obek_4obek_4obek_6obek_8obek_1obek_7obek_5obek_4obek_7obek_3obek_2obek_6obek_6obek_5obek_4obek_7obek_6obek_1obek_6obek_4obek_3obek_8obek_6obek_7obek_4obek_6obek_1obek_8obek_4obek_1obek_8obek_5obek_8obek_3obek_3obek_3obek_4obek_1obek_1obek_8obek_3obek_1obek_4obek_2obek_7obek_5obek_6obek_2obek_6obek_1obek_4obek_5obek_1obek_4obek_6obek_6obek_1obek_8obek_8obek_3obek_3obek_5obek_6obek_8obek_8obek_8obek_6obek_7obek_4obek_6obek_6obek_3obek_5obek_5obek_7obek_6obek_8obek_6obek_8obek_6obek_4obek_8obek_8obek_7obek_1obek_8obek_8obek_1obek_8obek_6obek_5obek_4obek_1obek_2obek_4obek_3obek_7obek_6obek_5obek_5obek_3obek_8obek_4obek_4obek_2obek_2obek_4obek_4obek_7obek_4obek_2obek_6obek_4obek_4obek_4obek_4obek_8obek_6obek_7obek_4obek_1obek_4obek_7obek_1obek_8obek_5obek_4obek_6obek_5obek_4obek_3obek_1obek_2obek_1obek_4obek_8obek_3obek_8obek_3obek_1obek_3obek_1obek_1obek_7obek_6obek_4obek_7obek_8obek_7obek_4obek_5obek_8obek_3obek_3obek_1obek_8obek_3obek_1obek_5obek_4obek_4obek_3obek_7obek_7obek_8obek_4obek_7obek_7obek_7obek_8obek_8obek_7obek_4obek_8obek_4obek_3obek_6obek_5obek_3obek_3obek_3obek_6obek_3obek_1obek_4obek_2obek_3obek_3obek_1obek_1obek_2obek_1obek_3obek_8obek_6obek_6obek_6obek_2obek_3obek_6obek_8obek_3obek_4obek_5obek_3obek_4obek_6obek_3obek_5obek_8obek_4obek_2obek_3obek_3obek_1obek_3obek_5obek_6obek_7obek_4obek_4obek_5obek_2obek_3obek_3obek_3obek_3obek_2obek_7obek_8obek_5obek_3obek_1obek_4obek_7obek_6obek_2obek_7obek_8obek_8obek_1obek_5obek_6obek_7obek_8obek_4obek_4obek_6obek_3obek_8obek_3obek_6obek_4obek_1obek_3obek_5obek_7obek_8obek_5obek_7obek_2obek_2obek_4obek_4obek_8obek_7obek_4obek_3obek_8obek_7obek_3obek_8obek_2obek_1obek_2obek_4obek_8obek_3obek_3obek_2obek_7obek_1obek_8obek_3obek_5obek_1obek_4obek_7obek_3obek_5obek_3obek_3obek_2obek_5obek_5obek_7obek_8obek_5obek_7obek_5obek_5obek_1obek_1obek_8obek_2obek_6obek_7obek_6obek_8obek_6obek_8obek_3obek_1obek_5obek_6obek_6obek_7obek_3obek_6obek_4obek_1obek_1obek_7obek_1obek_5obek_7obek_1obek_1obek_6obek_1obek_3obek_5obek_2obek_3obek_1obek_7obek_2obek_4obek_4obek_8obek_3obek_4obek_4obek_3obek_6obek_2obek_8obek_3obek_3obek_8obek_2obek_4obek_5obek_7obek_8obek_3obek_3obek_4obek_2obek_6obek_2obek_6obek_8obek_3obek_5obek_5obek_7obek_2obek_5obek_7obek_3obek_2obek_8obek_1obek_1obek_2obek_7obek_4obek_4obek_7obek_5obek_1obek_7obek_6obek_2obek_3obek_8obek_8obek_3obek_5obek_6obek_8obek_4obek_7obek_4obek_8obek_7obek_7obek_3obek_1obek_2obek_6obek_6obek_6obek_6obek_5obek_1obek_4obek_3\n",
      "Accuracy:  0.9560439560439561\n",
      "Fold F1:  0.9547763438828936\n",
      "Fold Precision:  0.955009062231795\n",
      "Fold Recall:  0.9548794007203658\n",
      "\n",
      " ********************************************************************** \n",
      "\n",
      "Train shape: (4914, 37) | Val Shape: (546, 37)\n",
      "Positive Count in Val Split: obek_5obek_5obek_1obek_6obek_1obek_1obek_1obek_3obek_7obek_2obek_8obek_5obek_7obek_6obek_6obek_5obek_4obek_5obek_4obek_5obek_7obek_6obek_3obek_3obek_6obek_8obek_3obek_7obek_2obek_2obek_3obek_7obek_4obek_3obek_1obek_7obek_6obek_2obek_5obek_8obek_5obek_6obek_8obek_4obek_5obek_3obek_1obek_5obek_1obek_7obek_3obek_4obek_1obek_2obek_4obek_5obek_1obek_7obek_8obek_7obek_8obek_1obek_7obek_3obek_5obek_5obek_5obek_5obek_7obek_8obek_6obek_7obek_3obek_5obek_4obek_7obek_4obek_4obek_6obek_4obek_7obek_1obek_6obek_3obek_5obek_4obek_6obek_5obek_6obek_8obek_5obek_5obek_2obek_3obek_5obek_3obek_2obek_7obek_2obek_8obek_3obek_5obek_3obek_5obek_5obek_2obek_4obek_4obek_4obek_5obek_4obek_3obek_6obek_4obek_1obek_1obek_2obek_3obek_5obek_5obek_1obek_3obek_5obek_1obek_1obek_7obek_2obek_7obek_4obek_4obek_3obek_8obek_8obek_5obek_6obek_1obek_6obek_8obek_3obek_7obek_7obek_6obek_5obek_6obek_3obek_8obek_2obek_7obek_2obek_3obek_3obek_5obek_5obek_1obek_1obek_8obek_3obek_2obek_8obek_6obek_5obek_5obek_6obek_5obek_6obek_7obek_8obek_6obek_1obek_3obek_4obek_5obek_3obek_8obek_6obek_6obek_1obek_4obek_1obek_7obek_3obek_3obek_6obek_5obek_6obek_5obek_8obek_2obek_4obek_1obek_8obek_8obek_3obek_7obek_6obek_6obek_7obek_7obek_4obek_6obek_5obek_6obek_3obek_1obek_3obek_8obek_4obek_8obek_6obek_2obek_6obek_5obek_1obek_4obek_1obek_6obek_4obek_3obek_2obek_6obek_1obek_3obek_4obek_8obek_2obek_4obek_8obek_6obek_6obek_4obek_2obek_7obek_4obek_6obek_6obek_2obek_6obek_6obek_8obek_5obek_4obek_4obek_5obek_6obek_6obek_3obek_7obek_8obek_8obek_8obek_3obek_1obek_6obek_6obek_1obek_1obek_8obek_2obek_2obek_1obek_5obek_7obek_3obek_7obek_4obek_3obek_2obek_1obek_6obek_1obek_7obek_6obek_8obek_4obek_8obek_6obek_5obek_5obek_4obek_5obek_4obek_8obek_1obek_5obek_3obek_6obek_4obek_8obek_3obek_4obek_4obek_3obek_2obek_2obek_5obek_1obek_2obek_1obek_8obek_3obek_2obek_6obek_4obek_3obek_6obek_4obek_7obek_2obek_2obek_3obek_8obek_4obek_6obek_7obek_2obek_6obek_6obek_2obek_4obek_4obek_3obek_1obek_5obek_6obek_8obek_5obek_1obek_8obek_2obek_8obek_4obek_7obek_4obek_6obek_6obek_3obek_2obek_7obek_2obek_4obek_4obek_6obek_4obek_5obek_4obek_6obek_1obek_8obek_4obek_6obek_3obek_1obek_3obek_3obek_5obek_5obek_7obek_1obek_6obek_7obek_8obek_5obek_2obek_8obek_6obek_1obek_7obek_5obek_6obek_7obek_6obek_1obek_8obek_3obek_6obek_4obek_4obek_5obek_5obek_8obek_8obek_3obek_8obek_6obek_2obek_5obek_2obek_3obek_7obek_4obek_3obek_7obek_4obek_1obek_4obek_4obek_1obek_1obek_4obek_2obek_6obek_1obek_4obek_5obek_1obek_1obek_1obek_4obek_2obek_8obek_7obek_8obek_5obek_4obek_8obek_3obek_1obek_3obek_5obek_7obek_6obek_5obek_3obek_5obek_2obek_5obek_6obek_6obek_6obek_6obek_4obek_3obek_6obek_5obek_2obek_3obek_4obek_8obek_8obek_2obek_1obek_4obek_7obek_1obek_7obek_7obek_7obek_1obek_4obek_4obek_5obek_2obek_2obek_2obek_2obek_3obek_7obek_8obek_4obek_8obek_7obek_7obek_7obek_3obek_5obek_8obek_6obek_2obek_5obek_7obek_3obek_7obek_3obek_4obek_6obek_8obek_4obek_6obek_7obek_3obek_6obek_4obek_6obek_8obek_5obek_4obek_3obek_6obek_4obek_2obek_5obek_4obek_3obek_8obek_8obek_1obek_2obek_8obek_5obek_6obek_4obek_2obek_5obek_4obek_1obek_7obek_6obek_4obek_8obek_5obek_2obek_2obek_2obek_3obek_1obek_4obek_7obek_1obek_1obek_8obek_7obek_6obek_4obek_7obek_1obek_1obek_5obek_8obek_8obek_8obek_1obek_5obek_5obek_7obek_8obek_8obek_8obek_5obek_8obek_1obek_1obek_6obek_6obek_6obek_1obek_4\n",
      "0:\tlearn: 1.5592599\ttest: 1.5577414\ttest1: 1.5592599\tbest: 1.5592599 (0)\ttotal: 10.5ms\tremaining: 10.5s\n",
      "200:\tlearn: 0.1881994\ttest: 0.2785585\ttest1: 0.1881994\tbest: 0.1881994 (200)\ttotal: 1.98s\tremaining: 7.88s\n",
      "400:\tlearn: 0.1335939\ttest: 0.2877116\ttest1: 0.1335939\tbest: 0.1335939 (400)\ttotal: 3.98s\tremaining: 5.95s\n",
      "600:\tlearn: 0.0957708\ttest: 0.2975525\ttest1: 0.0957708\tbest: 0.0957708 (600)\ttotal: 5.99s\tremaining: 3.97s\n",
      "800:\tlearn: 0.0709621\ttest: 0.3049905\ttest1: 0.0709621\tbest: 0.0709621 (800)\ttotal: 8.09s\tremaining: 2.01s\n",
      "999:\tlearn: 0.0548067\ttest: 0.3136429\ttest1: 0.0548067\tbest: 0.0548067 (999)\ttotal: 10s\tremaining: 0us\n",
      "\n",
      "bestTest = 0.05480674746\n",
      "bestIteration = 999\n",
      "\n",
      "Positive Count in Predictions: obek_5obek_5obek_1obek_6obek_1obek_1obek_1obek_3obek_7obek_2obek_8obek_5obek_3obek_6obek_6obek_5obek_4obek_5obek_4obek_5obek_7obek_6obek_3obek_3obek_6obek_8obek_3obek_7obek_2obek_6obek_3obek_7obek_4obek_3obek_1obek_7obek_6obek_7obek_5obek_8obek_5obek_6obek_8obek_4obek_5obek_3obek_1obek_5obek_1obek_7obek_3obek_4obek_1obek_2obek_4obek_5obek_1obek_7obek_8obek_7obek_8obek_1obek_7obek_3obek_5obek_5obek_5obek_5obek_7obek_5obek_6obek_7obek_3obek_5obek_4obek_7obek_4obek_4obek_6obek_4obek_7obek_1obek_6obek_3obek_3obek_4obek_6obek_5obek_6obek_8obek_5obek_5obek_2obek_3obek_5obek_3obek_2obek_7obek_2obek_8obek_3obek_5obek_3obek_5obek_5obek_2obek_4obek_4obek_4obek_5obek_7obek_3obek_6obek_4obek_1obek_1obek_2obek_3obek_5obek_5obek_1obek_3obek_5obek_1obek_1obek_7obek_2obek_7obek_4obek_3obek_3obek_8obek_8obek_5obek_6obek_1obek_8obek_8obek_3obek_7obek_7obek_6obek_5obek_6obek_3obek_8obek_2obek_7obek_2obek_3obek_3obek_5obek_5obek_1obek_1obek_8obek_3obek_2obek_8obek_6obek_5obek_5obek_6obek_5obek_6obek_7obek_8obek_6obek_1obek_3obek_4obek_5obek_3obek_8obek_6obek_6obek_1obek_4obek_1obek_7obek_3obek_3obek_6obek_1obek_6obek_5obek_8obek_2obek_4obek_1obek_8obek_8obek_3obek_7obek_6obek_6obek_7obek_7obek_4obek_6obek_5obek_6obek_3obek_1obek_3obek_8obek_8obek_8obek_6obek_2obek_6obek_5obek_1obek_4obek_1obek_6obek_4obek_3obek_2obek_6obek_1obek_3obek_4obek_4obek_2obek_4obek_8obek_6obek_6obek_4obek_2obek_7obek_4obek_6obek_6obek_2obek_6obek_6obek_8obek_5obek_4obek_4obek_5obek_6obek_6obek_3obek_7obek_8obek_8obek_8obek_3obek_1obek_6obek_6obek_1obek_1obek_8obek_2obek_2obek_1obek_5obek_7obek_3obek_7obek_4obek_3obek_2obek_1obek_6obek_1obek_7obek_6obek_8obek_4obek_8obek_6obek_5obek_5obek_4obek_5obek_4obek_8obek_1obek_5obek_3obek_6obek_4obek_8obek_3obek_4obek_4obek_3obek_2obek_2obek_5obek_1obek_2obek_1obek_8obek_3obek_2obek_6obek_4obek_3obek_6obek_4obek_7obek_2obek_2obek_3obek_8obek_4obek_6obek_7obek_2obek_6obek_6obek_2obek_4obek_4obek_3obek_1obek_7obek_6obek_8obek_5obek_1obek_8obek_2obek_8obek_4obek_7obek_4obek_6obek_6obek_3obek_2obek_3obek_2obek_4obek_4obek_6obek_4obek_5obek_4obek_6obek_1obek_8obek_4obek_6obek_3obek_1obek_3obek_3obek_5obek_5obek_7obek_1obek_6obek_7obek_8obek_5obek_2obek_8obek_7obek_1obek_7obek_5obek_6obek_7obek_6obek_4obek_8obek_3obek_6obek_4obek_4obek_5obek_5obek_8obek_8obek_3obek_8obek_6obek_2obek_5obek_2obek_3obek_7obek_4obek_3obek_7obek_4obek_1obek_4obek_4obek_1obek_1obek_4obek_2obek_6obek_1obek_4obek_5obek_1obek_1obek_1obek_4obek_2obek_8obek_7obek_8obek_5obek_4obek_8obek_3obek_1obek_3obek_5obek_4obek_6obek_5obek_3obek_5obek_2obek_5obek_6obek_6obek_6obek_6obek_4obek_3obek_6obek_5obek_2obek_3obek_4obek_8obek_8obek_2obek_1obek_4obek_7obek_1obek_5obek_7obek_7obek_1obek_4obek_4obek_5obek_2obek_2obek_4obek_2obek_3obek_4obek_8obek_4obek_8obek_7obek_7obek_7obek_3obek_5obek_8obek_6obek_2obek_5obek_7obek_3obek_7obek_3obek_4obek_6obek_8obek_4obek_6obek_7obek_3obek_6obek_4obek_6obek_8obek_5obek_4obek_3obek_6obek_4obek_2obek_5obek_4obek_3obek_8obek_8obek_1obek_2obek_5obek_5obek_6obek_4obek_6obek_5obek_4obek_1obek_6obek_6obek_4obek_1obek_5obek_2obek_2obek_2obek_3obek_2obek_4obek_7obek_1obek_1obek_8obek_7obek_6obek_4obek_7obek_1obek_1obek_5obek_8obek_8obek_8obek_1obek_5obek_5obek_7obek_8obek_8obek_8obek_5obek_8obek_1obek_1obek_6obek_6obek_6obek_1obek_4\n",
      "Accuracy:  0.9560439560439561\n",
      "Fold F1:  0.9547660524784551\n",
      "Fold Precision:  0.9564858284831111\n",
      "Fold Recall:  0.9536362924691792\n",
      "\n",
      " ********************************************************************** \n",
      "\n",
      "Train shape: (4914, 37) | Val Shape: (546, 37)\n",
      "Positive Count in Val Split: obek_6obek_4obek_7obek_8obek_3obek_3obek_8obek_6obek_5obek_6obek_5obek_2obek_2obek_7obek_7obek_7obek_2obek_4obek_1obek_4obek_4obek_5obek_1obek_3obek_3obek_7obek_6obek_6obek_2obek_7obek_7obek_1obek_3obek_5obek_7obek_5obek_3obek_1obek_5obek_5obek_4obek_6obek_8obek_1obek_3obek_6obek_3obek_7obek_1obek_4obek_7obek_6obek_8obek_5obek_4obek_1obek_5obek_8obek_3obek_3obek_4obek_2obek_4obek_8obek_5obek_5obek_7obek_3obek_6obek_1obek_7obek_7obek_3obek_3obek_1obek_4obek_4obek_8obek_7obek_4obek_1obek_3obek_1obek_2obek_6obek_1obek_8obek_1obek_5obek_1obek_7obek_4obek_8obek_2obek_8obek_1obek_3obek_8obek_2obek_3obek_3obek_2obek_8obek_1obek_4obek_8obek_5obek_5obek_1obek_4obek_8obek_6obek_1obek_8obek_7obek_6obek_1obek_7obek_4obek_7obek_3obek_1obek_4obek_7obek_7obek_2obek_8obek_2obek_4obek_5obek_1obek_8obek_3obek_8obek_5obek_8obek_2obek_6obek_6obek_8obek_2obek_5obek_8obek_2obek_8obek_4obek_6obek_1obek_5obek_7obek_1obek_4obek_4obek_1obek_4obek_5obek_6obek_7obek_4obek_7obek_8obek_1obek_8obek_8obek_4obek_8obek_1obek_5obek_4obek_2obek_6obek_2obek_5obek_5obek_5obek_2obek_4obek_7obek_7obek_5obek_2obek_3obek_8obek_2obek_4obek_8obek_3obek_8obek_5obek_8obek_4obek_5obek_4obek_7obek_6obek_8obek_3obek_6obek_4obek_5obek_1obek_7obek_8obek_7obek_1obek_6obek_4obek_5obek_6obek_7obek_7obek_7obek_3obek_5obek_8obek_3obek_7obek_6obek_4obek_4obek_1obek_3obek_2obek_4obek_4obek_1obek_6obek_3obek_2obek_7obek_7obek_8obek_4obek_1obek_2obek_3obek_4obek_5obek_2obek_4obek_1obek_7obek_8obek_4obek_3obek_8obek_1obek_4obek_3obek_5obek_1obek_5obek_5obek_4obek_1obek_4obek_6obek_7obek_6obek_2obek_6obek_3obek_6obek_6obek_6obek_6obek_4obek_7obek_8obek_7obek_1obek_6obek_7obek_5obek_5obek_3obek_3obek_8obek_4obek_4obek_2obek_8obek_4obek_5obek_2obek_5obek_7obek_6obek_3obek_6obek_4obek_4obek_8obek_6obek_4obek_4obek_3obek_1obek_5obek_6obek_8obek_4obek_5obek_5obek_6obek_6obek_1obek_8obek_2obek_7obek_6obek_3obek_7obek_5obek_2obek_6obek_3obek_8obek_3obek_4obek_6obek_8obek_3obek_2obek_4obek_6obek_8obek_8obek_4obek_6obek_6obek_6obek_2obek_4obek_2obek_7obek_3obek_3obek_7obek_4obek_4obek_2obek_6obek_7obek_2obek_5obek_4obek_2obek_8obek_7obek_8obek_7obek_2obek_7obek_5obek_6obek_1obek_8obek_3obek_1obek_2obek_8obek_7obek_6obek_1obek_5obek_8obek_1obek_5obek_8obek_1obek_8obek_2obek_5obek_3obek_6obek_7obek_6obek_2obek_3obek_7obek_3obek_7obek_1obek_7obek_4obek_3obek_5obek_8obek_4obek_8obek_6obek_7obek_1obek_7obek_4obek_7obek_8obek_3obek_4obek_7obek_5obek_7obek_5obek_6obek_1obek_7obek_6obek_6obek_8obek_2obek_3obek_3obek_6obek_3obek_3obek_1obek_5obek_3obek_3obek_8obek_1obek_1obek_7obek_6obek_7obek_5obek_6obek_2obek_1obek_1obek_8obek_7obek_2obek_2obek_4obek_8obek_4obek_4obek_6obek_7obek_1obek_3obek_5obek_1obek_6obek_8obek_7obek_5obek_2obek_5obek_6obek_3obek_4obek_2obek_4obek_2obek_5obek_2obek_3obek_4obek_7obek_1obek_5obek_1obek_3obek_8obek_2obek_8obek_6obek_7obek_2obek_8obek_3obek_8obek_4obek_3obek_1obek_3obek_7obek_1obek_3obek_6obek_7obek_4obek_7obek_1obek_5obek_4obek_4obek_2obek_8obek_2obek_8obek_3obek_5obek_4obek_3obek_8obek_1obek_3obek_1obek_3obek_8obek_3obek_3obek_2obek_1obek_8obek_4obek_6obek_7obek_5obek_4obek_5obek_2obek_7obek_6obek_6obek_3obek_8obek_8obek_6obek_3obek_1obek_8obek_2obek_1obek_4obek_4obek_4obek_7obek_6obek_5obek_6obek_5obek_7obek_6obek_4obek_4obek_6obek_6obek_6obek_1obek_8obek_8\n",
      "0:\tlearn: 1.5587405\ttest: 1.5532486\ttest1: 1.5587405\tbest: 1.5587405 (0)\ttotal: 10.9ms\tremaining: 10.9s\n",
      "200:\tlearn: 0.1912007\ttest: 0.2771993\ttest1: 0.1912007\tbest: 0.1912007 (200)\ttotal: 1.98s\tremaining: 7.86s\n",
      "400:\tlearn: 0.1359114\ttest: 0.2863370\ttest1: 0.1359114\tbest: 0.1359114 (400)\ttotal: 4.02s\tremaining: 6.01s\n",
      "600:\tlearn: 0.0981089\ttest: 0.2941689\ttest1: 0.0981089\tbest: 0.0981089 (600)\ttotal: 6.4s\tremaining: 4.25s\n",
      "800:\tlearn: 0.0708816\ttest: 0.3029797\ttest1: 0.0708816\tbest: 0.0708816 (800)\ttotal: 8.65s\tremaining: 2.15s\n",
      "999:\tlearn: 0.0537324\ttest: 0.3136991\ttest1: 0.0537324\tbest: 0.0537324 (999)\ttotal: 11s\tremaining: 0us\n",
      "\n",
      "bestTest = 0.05373235719\n",
      "bestIteration = 999\n",
      "\n",
      "Positive Count in Predictions: obek_6obek_4obek_7obek_8obek_3obek_3obek_8obek_6obek_5obek_6obek_5obek_2obek_7obek_7obek_7obek_7obek_2obek_4obek_1obek_4obek_4obek_5obek_1obek_3obek_3obek_7obek_6obek_6obek_2obek_7obek_7obek_1obek_3obek_5obek_7obek_5obek_3obek_5obek_5obek_5obek_4obek_6obek_8obek_1obek_3obek_6obek_3obek_7obek_1obek_4obek_7obek_6obek_8obek_5obek_4obek_1obek_5obek_2obek_3obek_1obek_4obek_2obek_4obek_8obek_5obek_5obek_3obek_3obek_6obek_1obek_7obek_7obek_3obek_3obek_1obek_4obek_4obek_8obek_7obek_4obek_1obek_3obek_1obek_2obek_6obek_1obek_8obek_1obek_5obek_1obek_7obek_4obek_8obek_2obek_8obek_8obek_3obek_8obek_2obek_3obek_3obek_2obek_8obek_1obek_4obek_8obek_5obek_5obek_1obek_4obek_8obek_6obek_1obek_8obek_7obek_6obek_1obek_7obek_4obek_7obek_3obek_1obek_4obek_7obek_7obek_2obek_8obek_2obek_4obek_5obek_1obek_8obek_3obek_8obek_5obek_8obek_2obek_6obek_6obek_8obek_2obek_5obek_8obek_2obek_8obek_8obek_6obek_1obek_5obek_7obek_1obek_4obek_4obek_4obek_4obek_5obek_6obek_7obek_4obek_7obek_3obek_1obek_8obek_3obek_4obek_8obek_1obek_5obek_5obek_2obek_6obek_2obek_5obek_5obek_5obek_2obek_4obek_7obek_7obek_5obek_2obek_3obek_8obek_2obek_4obek_8obek_3obek_8obek_5obek_8obek_4obek_5obek_4obek_7obek_6obek_8obek_3obek_6obek_4obek_8obek_1obek_7obek_8obek_7obek_1obek_6obek_4obek_5obek_6obek_7obek_7obek_7obek_3obek_5obek_8obek_3obek_7obek_6obek_3obek_4obek_1obek_3obek_2obek_4obek_4obek_1obek_6obek_3obek_2obek_7obek_7obek_8obek_4obek_1obek_2obek_3obek_4obek_5obek_2obek_4obek_1obek_7obek_8obek_4obek_3obek_8obek_1obek_4obek_3obek_5obek_1obek_5obek_5obek_4obek_1obek_4obek_6obek_7obek_6obek_2obek_6obek_3obek_2obek_6obek_6obek_6obek_4obek_7obek_8obek_7obek_1obek_6obek_7obek_5obek_5obek_3obek_1obek_8obek_4obek_4obek_2obek_8obek_4obek_4obek_2obek_5obek_7obek_6obek_3obek_6obek_4obek_4obek_8obek_6obek_4obek_4obek_3obek_1obek_5obek_6obek_8obek_4obek_5obek_5obek_6obek_6obek_1obek_8obek_2obek_7obek_6obek_3obek_7obek_5obek_2obek_6obek_6obek_8obek_3obek_4obek_6obek_8obek_3obek_2obek_2obek_6obek_8obek_8obek_4obek_6obek_6obek_6obek_3obek_4obek_2obek_7obek_3obek_3obek_7obek_4obek_4obek_2obek_6obek_7obek_2obek_5obek_4obek_2obek_8obek_7obek_8obek_7obek_2obek_7obek_5obek_6obek_1obek_8obek_3obek_1obek_2obek_8obek_7obek_6obek_1obek_5obek_8obek_1obek_5obek_8obek_1obek_8obek_2obek_5obek_3obek_6obek_7obek_6obek_2obek_3obek_7obek_3obek_7obek_1obek_7obek_4obek_3obek_5obek_8obek_4obek_8obek_6obek_7obek_1obek_7obek_4obek_7obek_8obek_3obek_4obek_7obek_5obek_7obek_5obek_6obek_1obek_7obek_6obek_6obek_8obek_2obek_3obek_3obek_6obek_6obek_3obek_1obek_5obek_3obek_6obek_8obek_1obek_1obek_7obek_6obek_7obek_5obek_6obek_2obek_1obek_1obek_8obek_7obek_2obek_2obek_4obek_8obek_5obek_4obek_6obek_7obek_1obek_3obek_5obek_1obek_6obek_8obek_7obek_5obek_2obek_5obek_6obek_3obek_4obek_2obek_4obek_8obek_5obek_2obek_3obek_4obek_7obek_1obek_5obek_1obek_3obek_8obek_5obek_8obek_6obek_7obek_2obek_8obek_3obek_8obek_4obek_3obek_1obek_3obek_3obek_1obek_3obek_6obek_7obek_4obek_7obek_1obek_5obek_4obek_4obek_2obek_8obek_2obek_8obek_3obek_5obek_4obek_3obek_8obek_1obek_3obek_1obek_3obek_8obek_3obek_3obek_2obek_1obek_8obek_4obek_6obek_7obek_5obek_4obek_5obek_2obek_7obek_6obek_6obek_3obek_8obek_8obek_6obek_3obek_1obek_8obek_2obek_1obek_4obek_4obek_4obek_7obek_6obek_5obek_6obek_1obek_7obek_6obek_4obek_4obek_6obek_6obek_6obek_1obek_8obek_8\n",
      "Accuracy:  0.9523809523809523\n",
      "Fold F1:  0.9513444158031296\n",
      "Fold Precision:  0.951424215356907\n",
      "Fold Recall:  0.9514693782539584\n",
      "\n",
      " ********************************************************************** \n",
      "\n"
     ]
    },
    {
     "data": {
      "application/vnd.plotly.v1+json": {
       "config": {
        "plotlyServerURL": "https://plot.ly"
       },
       "data": [
        {
         "alignmentgroup": "True",
         "hovertemplate": "Importance=%{x}<br>Feature=%{y}<extra></extra>",
         "legendgroup": "",
         "marker": {
          "color": "#636efa",
          "pattern": {
           "shape": ""
          }
         },
         "name": "",
         "offsetgroup": "",
         "orientation": "h",
         "showlegend": false,
         "textposition": "auto",
         "type": "bar",
         "x": [
          1.0362595558575602,
          1.0868145189505463,
          1.1586118356896309,
          1.1759192976361406,
          1.2630648245033373,
          1.4637322439117817,
          1.4663455507515697,
          1.4856882470256487,
          1.5120893719694923,
          1.524891933405488,
          1.5281748106082154,
          1.5677302737799252,
          1.6087411542728856,
          1.8192878238988164,
          1.9846094012308502,
          2.0315124678033873,
          13.56538561071903,
          13.80251535596789,
          14.762630018052358,
          24.1273702470853
         ],
         "xaxis": "x",
         "y": [
          "stihdamDurumu_KendiininSahibi",
          "EitimDzeyi_YksekLisansMezunu",
          "EitimDzeyi_niversiteMezunu",
          "EitimDzeyi_LiseMezunu",
          "Cinsiyet_Kadn",
          "stihdamDurumu_sizveyaDzenliBiriYok",
          "EnoklgilendiirnGrubu_ElektronikveTeknolojikrnler",
          "Yaadehir_Bykehir",
          "EnoklgilendiirnGrubu_EvveMobilya",
          "Yaadehir_Kkehir",
          "Cinsiyet_Erkek",
          "MedeniDurum_Bekar",
          "EnoklgilendiirnGrubu_SporMalzemeleri",
          "stihdamDurumu_DzenlivecretliBiriVar",
          "YaGrubu_3140",
          "EnoklgilendiirnGrubu_Giyim",
          "YllkOrtalamaSipariVerilenrnAdedi",
          "YllkOrtalamaSatnAlmMiktar",
          "YllkOrtalamaGelir",
          "YllkOrtalamaSepeteAtlanrnAdedi"
         ],
         "yaxis": "y"
        }
       ],
       "layout": {
        "barmode": "relative",
        "legend": {
         "tracegroupgap": 0
        },
        "margin": {
         "t": 60
        },
        "template": {
         "data": {
          "bar": [
           {
            "error_x": {
             "color": "#2a3f5f"
            },
            "error_y": {
             "color": "#2a3f5f"
            },
            "marker": {
             "line": {
              "color": "#E5ECF6",
              "width": 0.5
             },
             "pattern": {
              "fillmode": "overlay",
              "size": 10,
              "solidity": 0.2
             }
            },
            "type": "bar"
           }
          ],
          "barpolar": [
           {
            "marker": {
             "line": {
              "color": "#E5ECF6",
              "width": 0.5
             },
             "pattern": {
              "fillmode": "overlay",
              "size": 10,
              "solidity": 0.2
             }
            },
            "type": "barpolar"
           }
          ],
          "carpet": [
           {
            "aaxis": {
             "endlinecolor": "#2a3f5f",
             "gridcolor": "white",
             "linecolor": "white",
             "minorgridcolor": "white",
             "startlinecolor": "#2a3f5f"
            },
            "baxis": {
             "endlinecolor": "#2a3f5f",
             "gridcolor": "white",
             "linecolor": "white",
             "minorgridcolor": "white",
             "startlinecolor": "#2a3f5f"
            },
            "type": "carpet"
           }
          ],
          "choropleth": [
           {
            "colorbar": {
             "outlinewidth": 0,
             "ticks": ""
            },
            "type": "choropleth"
           }
          ],
          "contour": [
           {
            "colorbar": {
             "outlinewidth": 0,
             "ticks": ""
            },
            "colorscale": [
             [
              0,
              "#0d0887"
             ],
             [
              0.1111111111111111,
              "#46039f"
             ],
             [
              0.2222222222222222,
              "#7201a8"
             ],
             [
              0.3333333333333333,
              "#9c179e"
             ],
             [
              0.4444444444444444,
              "#bd3786"
             ],
             [
              0.5555555555555556,
              "#d8576b"
             ],
             [
              0.6666666666666666,
              "#ed7953"
             ],
             [
              0.7777777777777778,
              "#fb9f3a"
             ],
             [
              0.8888888888888888,
              "#fdca26"
             ],
             [
              1,
              "#f0f921"
             ]
            ],
            "type": "contour"
           }
          ],
          "contourcarpet": [
           {
            "colorbar": {
             "outlinewidth": 0,
             "ticks": ""
            },
            "type": "contourcarpet"
           }
          ],
          "heatmap": [
           {
            "colorbar": {
             "outlinewidth": 0,
             "ticks": ""
            },
            "colorscale": [
             [
              0,
              "#0d0887"
             ],
             [
              0.1111111111111111,
              "#46039f"
             ],
             [
              0.2222222222222222,
              "#7201a8"
             ],
             [
              0.3333333333333333,
              "#9c179e"
             ],
             [
              0.4444444444444444,
              "#bd3786"
             ],
             [
              0.5555555555555556,
              "#d8576b"
             ],
             [
              0.6666666666666666,
              "#ed7953"
             ],
             [
              0.7777777777777778,
              "#fb9f3a"
             ],
             [
              0.8888888888888888,
              "#fdca26"
             ],
             [
              1,
              "#f0f921"
             ]
            ],
            "type": "heatmap"
           }
          ],
          "heatmapgl": [
           {
            "colorbar": {
             "outlinewidth": 0,
             "ticks": ""
            },
            "colorscale": [
             [
              0,
              "#0d0887"
             ],
             [
              0.1111111111111111,
              "#46039f"
             ],
             [
              0.2222222222222222,
              "#7201a8"
             ],
             [
              0.3333333333333333,
              "#9c179e"
             ],
             [
              0.4444444444444444,
              "#bd3786"
             ],
             [
              0.5555555555555556,
              "#d8576b"
             ],
             [
              0.6666666666666666,
              "#ed7953"
             ],
             [
              0.7777777777777778,
              "#fb9f3a"
             ],
             [
              0.8888888888888888,
              "#fdca26"
             ],
             [
              1,
              "#f0f921"
             ]
            ],
            "type": "heatmapgl"
           }
          ],
          "histogram": [
           {
            "marker": {
             "pattern": {
              "fillmode": "overlay",
              "size": 10,
              "solidity": 0.2
             }
            },
            "type": "histogram"
           }
          ],
          "histogram2d": [
           {
            "colorbar": {
             "outlinewidth": 0,
             "ticks": ""
            },
            "colorscale": [
             [
              0,
              "#0d0887"
             ],
             [
              0.1111111111111111,
              "#46039f"
             ],
             [
              0.2222222222222222,
              "#7201a8"
             ],
             [
              0.3333333333333333,
              "#9c179e"
             ],
             [
              0.4444444444444444,
              "#bd3786"
             ],
             [
              0.5555555555555556,
              "#d8576b"
             ],
             [
              0.6666666666666666,
              "#ed7953"
             ],
             [
              0.7777777777777778,
              "#fb9f3a"
             ],
             [
              0.8888888888888888,
              "#fdca26"
             ],
             [
              1,
              "#f0f921"
             ]
            ],
            "type": "histogram2d"
           }
          ],
          "histogram2dcontour": [
           {
            "colorbar": {
             "outlinewidth": 0,
             "ticks": ""
            },
            "colorscale": [
             [
              0,
              "#0d0887"
             ],
             [
              0.1111111111111111,
              "#46039f"
             ],
             [
              0.2222222222222222,
              "#7201a8"
             ],
             [
              0.3333333333333333,
              "#9c179e"
             ],
             [
              0.4444444444444444,
              "#bd3786"
             ],
             [
              0.5555555555555556,
              "#d8576b"
             ],
             [
              0.6666666666666666,
              "#ed7953"
             ],
             [
              0.7777777777777778,
              "#fb9f3a"
             ],
             [
              0.8888888888888888,
              "#fdca26"
             ],
             [
              1,
              "#f0f921"
             ]
            ],
            "type": "histogram2dcontour"
           }
          ],
          "mesh3d": [
           {
            "colorbar": {
             "outlinewidth": 0,
             "ticks": ""
            },
            "type": "mesh3d"
           }
          ],
          "parcoords": [
           {
            "line": {
             "colorbar": {
              "outlinewidth": 0,
              "ticks": ""
             }
            },
            "type": "parcoords"
           }
          ],
          "pie": [
           {
            "automargin": true,
            "type": "pie"
           }
          ],
          "scatter": [
           {
            "marker": {
             "colorbar": {
              "outlinewidth": 0,
              "ticks": ""
             }
            },
            "type": "scatter"
           }
          ],
          "scatter3d": [
           {
            "line": {
             "colorbar": {
              "outlinewidth": 0,
              "ticks": ""
             }
            },
            "marker": {
             "colorbar": {
              "outlinewidth": 0,
              "ticks": ""
             }
            },
            "type": "scatter3d"
           }
          ],
          "scattercarpet": [
           {
            "marker": {
             "colorbar": {
              "outlinewidth": 0,
              "ticks": ""
             }
            },
            "type": "scattercarpet"
           }
          ],
          "scattergeo": [
           {
            "marker": {
             "colorbar": {
              "outlinewidth": 0,
              "ticks": ""
             }
            },
            "type": "scattergeo"
           }
          ],
          "scattergl": [
           {
            "marker": {
             "colorbar": {
              "outlinewidth": 0,
              "ticks": ""
             }
            },
            "type": "scattergl"
           }
          ],
          "scattermapbox": [
           {
            "marker": {
             "colorbar": {
              "outlinewidth": 0,
              "ticks": ""
             }
            },
            "type": "scattermapbox"
           }
          ],
          "scatterpolar": [
           {
            "marker": {
             "colorbar": {
              "outlinewidth": 0,
              "ticks": ""
             }
            },
            "type": "scatterpolar"
           }
          ],
          "scatterpolargl": [
           {
            "marker": {
             "colorbar": {
              "outlinewidth": 0,
              "ticks": ""
             }
            },
            "type": "scatterpolargl"
           }
          ],
          "scatterternary": [
           {
            "marker": {
             "colorbar": {
              "outlinewidth": 0,
              "ticks": ""
             }
            },
            "type": "scatterternary"
           }
          ],
          "surface": [
           {
            "colorbar": {
             "outlinewidth": 0,
             "ticks": ""
            },
            "colorscale": [
             [
              0,
              "#0d0887"
             ],
             [
              0.1111111111111111,
              "#46039f"
             ],
             [
              0.2222222222222222,
              "#7201a8"
             ],
             [
              0.3333333333333333,
              "#9c179e"
             ],
             [
              0.4444444444444444,
              "#bd3786"
             ],
             [
              0.5555555555555556,
              "#d8576b"
             ],
             [
              0.6666666666666666,
              "#ed7953"
             ],
             [
              0.7777777777777778,
              "#fb9f3a"
             ],
             [
              0.8888888888888888,
              "#fdca26"
             ],
             [
              1,
              "#f0f921"
             ]
            ],
            "type": "surface"
           }
          ],
          "table": [
           {
            "cells": {
             "fill": {
              "color": "#EBF0F8"
             },
             "line": {
              "color": "white"
             }
            },
            "header": {
             "fill": {
              "color": "#C8D4E3"
             },
             "line": {
              "color": "white"
             }
            },
            "type": "table"
           }
          ]
         },
         "layout": {
          "annotationdefaults": {
           "arrowcolor": "#2a3f5f",
           "arrowhead": 0,
           "arrowwidth": 1
          },
          "autotypenumbers": "strict",
          "coloraxis": {
           "colorbar": {
            "outlinewidth": 0,
            "ticks": ""
           }
          },
          "colorscale": {
           "diverging": [
            [
             0,
             "#8e0152"
            ],
            [
             0.1,
             "#c51b7d"
            ],
            [
             0.2,
             "#de77ae"
            ],
            [
             0.3,
             "#f1b6da"
            ],
            [
             0.4,
             "#fde0ef"
            ],
            [
             0.5,
             "#f7f7f7"
            ],
            [
             0.6,
             "#e6f5d0"
            ],
            [
             0.7,
             "#b8e186"
            ],
            [
             0.8,
             "#7fbc41"
            ],
            [
             0.9,
             "#4d9221"
            ],
            [
             1,
             "#276419"
            ]
           ],
           "sequential": [
            [
             0,
             "#0d0887"
            ],
            [
             0.1111111111111111,
             "#46039f"
            ],
            [
             0.2222222222222222,
             "#7201a8"
            ],
            [
             0.3333333333333333,
             "#9c179e"
            ],
            [
             0.4444444444444444,
             "#bd3786"
            ],
            [
             0.5555555555555556,
             "#d8576b"
            ],
            [
             0.6666666666666666,
             "#ed7953"
            ],
            [
             0.7777777777777778,
             "#fb9f3a"
            ],
            [
             0.8888888888888888,
             "#fdca26"
            ],
            [
             1,
             "#f0f921"
            ]
           ],
           "sequentialminus": [
            [
             0,
             "#0d0887"
            ],
            [
             0.1111111111111111,
             "#46039f"
            ],
            [
             0.2222222222222222,
             "#7201a8"
            ],
            [
             0.3333333333333333,
             "#9c179e"
            ],
            [
             0.4444444444444444,
             "#bd3786"
            ],
            [
             0.5555555555555556,
             "#d8576b"
            ],
            [
             0.6666666666666666,
             "#ed7953"
            ],
            [
             0.7777777777777778,
             "#fb9f3a"
            ],
            [
             0.8888888888888888,
             "#fdca26"
            ],
            [
             1,
             "#f0f921"
            ]
           ]
          },
          "colorway": [
           "#636efa",
           "#EF553B",
           "#00cc96",
           "#ab63fa",
           "#FFA15A",
           "#19d3f3",
           "#FF6692",
           "#B6E880",
           "#FF97FF",
           "#FECB52"
          ],
          "font": {
           "color": "#2a3f5f"
          },
          "geo": {
           "bgcolor": "white",
           "lakecolor": "white",
           "landcolor": "#E5ECF6",
           "showlakes": true,
           "showland": true,
           "subunitcolor": "white"
          },
          "hoverlabel": {
           "align": "left"
          },
          "hovermode": "closest",
          "mapbox": {
           "style": "light"
          },
          "paper_bgcolor": "white",
          "plot_bgcolor": "#E5ECF6",
          "polar": {
           "angularaxis": {
            "gridcolor": "white",
            "linecolor": "white",
            "ticks": ""
           },
           "bgcolor": "#E5ECF6",
           "radialaxis": {
            "gridcolor": "white",
            "linecolor": "white",
            "ticks": ""
           }
          },
          "scene": {
           "xaxis": {
            "backgroundcolor": "#E5ECF6",
            "gridcolor": "white",
            "gridwidth": 2,
            "linecolor": "white",
            "showbackground": true,
            "ticks": "",
            "zerolinecolor": "white"
           },
           "yaxis": {
            "backgroundcolor": "#E5ECF6",
            "gridcolor": "white",
            "gridwidth": 2,
            "linecolor": "white",
            "showbackground": true,
            "ticks": "",
            "zerolinecolor": "white"
           },
           "zaxis": {
            "backgroundcolor": "#E5ECF6",
            "gridcolor": "white",
            "gridwidth": 2,
            "linecolor": "white",
            "showbackground": true,
            "ticks": "",
            "zerolinecolor": "white"
           }
          },
          "shapedefaults": {
           "line": {
            "color": "#2a3f5f"
           }
          },
          "ternary": {
           "aaxis": {
            "gridcolor": "white",
            "linecolor": "white",
            "ticks": ""
           },
           "baxis": {
            "gridcolor": "white",
            "linecolor": "white",
            "ticks": ""
           },
           "bgcolor": "#E5ECF6",
           "caxis": {
            "gridcolor": "white",
            "linecolor": "white",
            "ticks": ""
           }
          },
          "title": {
           "x": 0.05
          },
          "xaxis": {
           "automargin": true,
           "gridcolor": "white",
           "linecolor": "white",
           "ticks": "",
           "title": {
            "standoff": 15
           },
           "zerolinecolor": "white",
           "zerolinewidth": 2
          },
          "yaxis": {
           "automargin": true,
           "gridcolor": "white",
           "linecolor": "white",
           "ticks": "",
           "title": {
            "standoff": 15
           },
           "zerolinecolor": "white",
           "zerolinewidth": 2
          }
         }
        },
        "title": {
         "text": "First 20 Important Features - CatBoost Average of Folds"
        },
        "xaxis": {
         "anchor": "y",
         "domain": [
          0,
          1
         ],
         "title": {
          "text": "Importance"
         }
        },
        "yaxis": {
         "anchor": "x",
         "domain": [
          0,
          1
         ],
         "title": {
          "text": "Feature"
         }
        }
       }
      }
     },
     "metadata": {},
     "output_type": "display_data"
    }
   ],
   "source": [
    "from sklearn.model_selection import KFold\n",
    "from catboost import CatBoostClassifier\n",
    "import lightgbm as lgb\n",
    "from sklearn.ensemble import RandomForestClassifier\n",
    "from sklearn.metrics import f1_score, roc_auc_score, average_precision_score, recall_score, precision_score, accuracy_score\n",
    "import re\n",
    "\n",
    "\n",
    "\n",
    "\n",
    "y = app_train_encode[\"Öbek İsmi\"]\n",
    "X = app_train_encode.drop(columns=[\"Öbek İsmi\"])\n",
    "X = X.rename(columns = lambda x:re.sub('[^A-Za-z0-9_]+', '', x))\n",
    "\n",
    "auc_errs = []\n",
    "ap_errs = []\n",
    "prec_errs = []\n",
    "recall_errs = []\n",
    "f1_errs = []\n",
    "acc_scores = []\n",
    "\n",
    "models = []\n",
    "\n",
    "kf = KFold(n_splits=10)\n",
    "\n",
    "for split_train, split_val in list(kf.split(X)):\n",
    "    \n",
    "    split_train = X.index[split_train]\n",
    "    split_val = X.index[split_val]\n",
    "    \n",
    "    X_train, y_train = X.loc[split_train], y.loc[split_train]\n",
    "    X_val, y_val = X.loc[split_val], y.loc[split_val]\n",
    "    print(\"Train shape:\", X_train.shape, \"|\", \"Val Shape:\", X_val.shape)\n",
    "    print(\"Positive Count in Val Split:\", y_val.sum())\n",
    "\n",
    "    model = CatBoostClassifier(iterations=1000,  # You can adjust parameters\n",
    "                               learning_rate=0.1,\n",
    "                               depth=6,\n",
    "                               loss_function='MultiClass',\n",
    "                               random_state=42)\n",
    "    \n",
    "    model.fit(X_train, y_train, eval_set=[(X_val, y_val), (X_train, y_train)], early_stopping_rounds=100, verbose=200)\n",
    "    \n",
    "    preds = model.predict(X_val)\n",
    "    pred_probas = model.predict_proba(X_val)[:,1]\n",
    "\n",
    "    print(\"Positive Count in Predictions:\", preds.sum())\n",
    "    \n",
    "    acc = accuracy_score(y_val, preds)\n",
    "    print(\"Accuracy: \", acc)\n",
    "    acc_scores.append(acc)\n",
    "    \n",
    "    f1_err = f1_score(y_val, preds, average='macro')\n",
    "    print(\"Fold F1: \", f1_err)\n",
    "    f1_errs.append(f1_err)\n",
    "\n",
    "    prec_err = precision_score(y_val, preds, average='macro')\n",
    "    print(\"Fold Precision: \", prec_err)\n",
    "    prec_errs.append(prec_err)\n",
    "\n",
    "    recall_err = recall_score(y_val, preds, average='macro')\n",
    "    print(\"Fold Recall: \", recall_err)\n",
    "    recall_errs.append(recall_err)\n",
    "    \n",
    "    models.append(model)\n",
    "    \n",
    "    print(\"\\n\", \"*\"*70, \"\\n\")\n",
    "\n",
    "import plotly.express as px\n",
    "importance = [model.feature_importances_ for model in models]\n",
    "\n",
    "f_importance = pd.concat([pd.Series(X.columns.to_list(),name='Feature'),\n",
    "                        pd.Series(np.mean(importance,axis=0),name=\"Importance\")],\n",
    "                        axis=1).sort_values(by='Importance',\n",
    "                                            ascending=True)\n",
    "\n",
    "fig = px.bar(f_importance.tail(20),x='Importance',y='Feature')\n",
    "fig.update_layout(\n",
    "    title_text=\"First 20 Important Features - CatBoost Average of Folds\"\n",
    ")\n",
    "fig.show()\n",
    "\n",
    "    \n"
   ]
  },
  {
   "cell_type": "code",
   "execution_count": 48,
   "metadata": {},
   "outputs": [
    {
     "data": {
      "text/html": [
       "<div>\n",
       "<style scoped>\n",
       "    .dataframe tbody tr th:only-of-type {\n",
       "        vertical-align: middle;\n",
       "    }\n",
       "\n",
       "    .dataframe tbody tr th {\n",
       "        vertical-align: top;\n",
       "    }\n",
       "\n",
       "    .dataframe thead th {\n",
       "        text-align: right;\n",
       "    }\n",
       "</style>\n",
       "<table border=\"1\" class=\"dataframe\">\n",
       "  <thead>\n",
       "    <tr style=\"text-align: right;\">\n",
       "      <th></th>\n",
       "      <th>id</th>\n",
       "      <th>Öbek İsmi</th>\n",
       "    </tr>\n",
       "  </thead>\n",
       "  <tbody>\n",
       "    <tr>\n",
       "      <th>0</th>\n",
       "      <td>0</td>\n",
       "      <td>obek_3</td>\n",
       "    </tr>\n",
       "    <tr>\n",
       "      <th>1</th>\n",
       "      <td>1</td>\n",
       "      <td>obek_2</td>\n",
       "    </tr>\n",
       "    <tr>\n",
       "      <th>2</th>\n",
       "      <td>2</td>\n",
       "      <td>obek_1</td>\n",
       "    </tr>\n",
       "  </tbody>\n",
       "</table>\n",
       "</div>"
      ],
      "text/plain": [
       "   id Öbek İsmi\n",
       "0   0    obek_3\n",
       "1   1    obek_2\n",
       "2   2    obek_1"
      ]
     },
     "execution_count": 48,
     "metadata": {},
     "output_type": "execute_result"
    }
   ],
   "source": [
    "sample = pd.read_csv(\"./data/sample_submission.csv\")\n",
    "sample.head()"
   ]
  },
  {
   "cell_type": "code",
   "execution_count": 72,
   "metadata": {},
   "outputs": [],
   "source": [
    "app_test_encode = app_test_encode.rename(columns = lambda x:re.sub('[^A-Za-z0-9_]+', '', x))\n"
   ]
  },
  {
   "cell_type": "code",
   "execution_count": 73,
   "metadata": {},
   "outputs": [],
   "source": [
    "class_labels = model.classes_\n",
    "\n",
    "# Predict probabilities for the test data\n",
    "model_preds = [model.predict_proba(app_test_encode) for model in models]\n",
    "\n",
    "# Calculate the mean predicted probabilities for each class across models\n",
    "average_probs = np.mean(model_preds, axis=0)\n",
    "\n",
    "# Find the class index with the highest probability for each sample\n",
    "predicted_classes = np.argmax(average_probs, axis=1)\n",
    "\n",
    "# Map class indices to class labels\n",
    "predicted_labels = [class_labels[class_idx] for class_idx in predicted_classes]\n"
   ]
  },
  {
   "cell_type": "code",
   "execution_count": 52,
   "metadata": {},
   "outputs": [
    {
     "data": {
      "text/plain": [
       "0          0\n",
       "1          1\n",
       "2          2\n",
       "3          3\n",
       "4          4\n",
       "        ... \n",
       "2335    2335\n",
       "2336    2336\n",
       "2337    2337\n",
       "2338    2338\n",
       "2339    2339\n",
       "Name: index, Length: 2340, dtype: int64"
      ]
     },
     "execution_count": 52,
     "metadata": {},
     "output_type": "execute_result"
    }
   ],
   "source": [
    "user_id = pd.read_csv(\"./data/test_x.csv\").iloc[:,0]\n",
    "user_id"
   ]
  },
  {
   "cell_type": "code",
   "execution_count": 74,
   "metadata": {},
   "outputs": [
    {
     "data": {
      "text/html": [
       "<div>\n",
       "<style scoped>\n",
       "    .dataframe tbody tr th:only-of-type {\n",
       "        vertical-align: middle;\n",
       "    }\n",
       "\n",
       "    .dataframe tbody tr th {\n",
       "        vertical-align: top;\n",
       "    }\n",
       "\n",
       "    .dataframe thead th {\n",
       "        text-align: right;\n",
       "    }\n",
       "</style>\n",
       "<table border=\"1\" class=\"dataframe\">\n",
       "  <thead>\n",
       "    <tr style=\"text-align: right;\">\n",
       "      <th></th>\n",
       "      <th>id</th>\n",
       "      <th>Öbek İsmi</th>\n",
       "    </tr>\n",
       "  </thead>\n",
       "  <tbody>\n",
       "    <tr>\n",
       "      <th>0</th>\n",
       "      <td>0</td>\n",
       "      <td>obek_3</td>\n",
       "    </tr>\n",
       "    <tr>\n",
       "      <th>1</th>\n",
       "      <td>1</td>\n",
       "      <td>obek_3</td>\n",
       "    </tr>\n",
       "    <tr>\n",
       "      <th>2</th>\n",
       "      <td>2</td>\n",
       "      <td>obek_2</td>\n",
       "    </tr>\n",
       "    <tr>\n",
       "      <th>3</th>\n",
       "      <td>3</td>\n",
       "      <td>obek_6</td>\n",
       "    </tr>\n",
       "    <tr>\n",
       "      <th>4</th>\n",
       "      <td>4</td>\n",
       "      <td>obek_1</td>\n",
       "    </tr>\n",
       "  </tbody>\n",
       "</table>\n",
       "</div>"
      ],
      "text/plain": [
       "   id Öbek İsmi\n",
       "0   0    obek_3\n",
       "1   1    obek_3\n",
       "2   2    obek_2\n",
       "3   3    obek_6\n",
       "4   4    obek_1"
      ]
     },
     "execution_count": 74,
     "metadata": {},
     "output_type": "execute_result"
    }
   ],
   "source": [
    "sample_submission = pd.DataFrame()\n",
    "sample_submission['id'] = user_id\n",
    "sample_submission['Öbek İsmi'] = predicted_labels\n",
    "\n",
    "sample_submission.head()"
   ]
  },
  {
   "cell_type": "code",
   "execution_count": 75,
   "metadata": {},
   "outputs": [
    {
     "data": {
      "text/plain": [
       "(2340, 2)"
      ]
     },
     "execution_count": 75,
     "metadata": {},
     "output_type": "execute_result"
    }
   ],
   "source": [
    "sample_submission.shape"
   ]
  },
  {
   "cell_type": "markdown",
   "metadata": {},
   "source": []
  },
  {
   "cell_type": "code",
   "execution_count": 76,
   "metadata": {},
   "outputs": [],
   "source": [
    "sample_submission.to_csv(\"base_catboost.csv\", index=False)"
   ]
  },
  {
   "cell_type": "code",
   "execution_count": null,
   "metadata": {},
   "outputs": [],
   "source": []
  }
 ],
 "metadata": {
  "kernelspec": {
   "display_name": "base",
   "language": "python",
   "name": "python3"
  },
  "language_info": {
   "codemirror_mode": {
    "name": "ipython",
    "version": 3
   },
   "file_extension": ".py",
   "mimetype": "text/x-python",
   "name": "python",
   "nbconvert_exporter": "python",
   "pygments_lexer": "ipython3",
   "version": "3.7.11"
  },
  "orig_nbformat": 4
 },
 "nbformat": 4,
 "nbformat_minor": 2
}
